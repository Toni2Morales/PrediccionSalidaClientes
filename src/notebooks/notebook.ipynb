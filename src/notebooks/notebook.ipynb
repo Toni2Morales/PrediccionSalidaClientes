{
 "cells": [
  {
   "attachments": {},
   "cell_type": "markdown",
   "metadata": {},
   "source": [
    "# Predicción de cancelación de tarjeta de cliente"
   ]
  },
  {
   "attachments": {},
   "cell_type": "markdown",
   "metadata": {},
   "source": [
    "## Importación de datos"
   ]
  },
  {
   "cell_type": "code",
   "execution_count": 68,
   "metadata": {},
   "outputs": [],
   "source": [
    "import pandas as pd\n",
    "from sklearn.model_selection import train_test_split\n",
    "from tensorflow import keras\n",
    "import matplotlib.pyplot as plt"
   ]
  },
  {
   "cell_type": "code",
   "execution_count": 69,
   "metadata": {},
   "outputs": [],
   "source": [
    "data = pd.read_csv(\"../data/BankChurners.csv\")"
   ]
  },
  {
   "cell_type": "code",
   "execution_count": 70,
   "metadata": {},
   "outputs": [
    {
     "data": {
      "text/plain": [
       "23"
      ]
     },
     "execution_count": 70,
     "metadata": {},
     "output_type": "execute_result"
    }
   ],
   "source": [
    "len(data.columns)"
   ]
  },
  {
   "cell_type": "code",
   "execution_count": 71,
   "metadata": {},
   "outputs": [
    {
     "data": {
      "text/html": [
       "<div>\n",
       "<style scoped>\n",
       "    .dataframe tbody tr th:only-of-type {\n",
       "        vertical-align: middle;\n",
       "    }\n",
       "\n",
       "    .dataframe tbody tr th {\n",
       "        vertical-align: top;\n",
       "    }\n",
       "\n",
       "    .dataframe thead th {\n",
       "        text-align: right;\n",
       "    }\n",
       "</style>\n",
       "<table border=\"1\" class=\"dataframe\">\n",
       "  <thead>\n",
       "    <tr style=\"text-align: right;\">\n",
       "      <th></th>\n",
       "      <th>CLIENTNUM</th>\n",
       "      <th>Attrition_Flag</th>\n",
       "      <th>Customer_Age</th>\n",
       "      <th>Gender</th>\n",
       "      <th>Dependent_count</th>\n",
       "      <th>Education_Level</th>\n",
       "      <th>Marital_Status</th>\n",
       "      <th>Income_Category</th>\n",
       "      <th>Card_Category</th>\n",
       "      <th>Months_on_book</th>\n",
       "      <th>...</th>\n",
       "      <th>Credit_Limit</th>\n",
       "      <th>Total_Revolving_Bal</th>\n",
       "      <th>Avg_Open_To_Buy</th>\n",
       "      <th>Total_Amt_Chng_Q4_Q1</th>\n",
       "      <th>Total_Trans_Amt</th>\n",
       "      <th>Total_Trans_Ct</th>\n",
       "      <th>Total_Ct_Chng_Q4_Q1</th>\n",
       "      <th>Avg_Utilization_Ratio</th>\n",
       "      <th>Naive_Bayes_Classifier_Attrition_Flag_Card_Category_Contacts_Count_12_mon_Dependent_count_Education_Level_Months_Inactive_12_mon_1</th>\n",
       "      <th>Naive_Bayes_Classifier_Attrition_Flag_Card_Category_Contacts_Count_12_mon_Dependent_count_Education_Level_Months_Inactive_12_mon_2</th>\n",
       "    </tr>\n",
       "  </thead>\n",
       "  <tbody>\n",
       "    <tr>\n",
       "      <th>0</th>\n",
       "      <td>768805383</td>\n",
       "      <td>Existing Customer</td>\n",
       "      <td>45</td>\n",
       "      <td>M</td>\n",
       "      <td>3</td>\n",
       "      <td>High School</td>\n",
       "      <td>Married</td>\n",
       "      <td>$60K - $80K</td>\n",
       "      <td>Blue</td>\n",
       "      <td>39</td>\n",
       "      <td>...</td>\n",
       "      <td>12691.0</td>\n",
       "      <td>777</td>\n",
       "      <td>11914.0</td>\n",
       "      <td>1.335</td>\n",
       "      <td>1144</td>\n",
       "      <td>42</td>\n",
       "      <td>1.625</td>\n",
       "      <td>0.061</td>\n",
       "      <td>0.000093</td>\n",
       "      <td>0.99991</td>\n",
       "    </tr>\n",
       "    <tr>\n",
       "      <th>1</th>\n",
       "      <td>818770008</td>\n",
       "      <td>Existing Customer</td>\n",
       "      <td>49</td>\n",
       "      <td>F</td>\n",
       "      <td>5</td>\n",
       "      <td>Graduate</td>\n",
       "      <td>Single</td>\n",
       "      <td>Less than $40K</td>\n",
       "      <td>Blue</td>\n",
       "      <td>44</td>\n",
       "      <td>...</td>\n",
       "      <td>8256.0</td>\n",
       "      <td>864</td>\n",
       "      <td>7392.0</td>\n",
       "      <td>1.541</td>\n",
       "      <td>1291</td>\n",
       "      <td>33</td>\n",
       "      <td>3.714</td>\n",
       "      <td>0.105</td>\n",
       "      <td>0.000057</td>\n",
       "      <td>0.99994</td>\n",
       "    </tr>\n",
       "    <tr>\n",
       "      <th>2</th>\n",
       "      <td>713982108</td>\n",
       "      <td>Existing Customer</td>\n",
       "      <td>51</td>\n",
       "      <td>M</td>\n",
       "      <td>3</td>\n",
       "      <td>Graduate</td>\n",
       "      <td>Married</td>\n",
       "      <td>$80K - $120K</td>\n",
       "      <td>Blue</td>\n",
       "      <td>36</td>\n",
       "      <td>...</td>\n",
       "      <td>3418.0</td>\n",
       "      <td>0</td>\n",
       "      <td>3418.0</td>\n",
       "      <td>2.594</td>\n",
       "      <td>1887</td>\n",
       "      <td>20</td>\n",
       "      <td>2.333</td>\n",
       "      <td>0.000</td>\n",
       "      <td>0.000021</td>\n",
       "      <td>0.99998</td>\n",
       "    </tr>\n",
       "    <tr>\n",
       "      <th>3</th>\n",
       "      <td>769911858</td>\n",
       "      <td>Existing Customer</td>\n",
       "      <td>40</td>\n",
       "      <td>F</td>\n",
       "      <td>4</td>\n",
       "      <td>High School</td>\n",
       "      <td>Unknown</td>\n",
       "      <td>Less than $40K</td>\n",
       "      <td>Blue</td>\n",
       "      <td>34</td>\n",
       "      <td>...</td>\n",
       "      <td>3313.0</td>\n",
       "      <td>2517</td>\n",
       "      <td>796.0</td>\n",
       "      <td>1.405</td>\n",
       "      <td>1171</td>\n",
       "      <td>20</td>\n",
       "      <td>2.333</td>\n",
       "      <td>0.760</td>\n",
       "      <td>0.000134</td>\n",
       "      <td>0.99987</td>\n",
       "    </tr>\n",
       "    <tr>\n",
       "      <th>4</th>\n",
       "      <td>709106358</td>\n",
       "      <td>Existing Customer</td>\n",
       "      <td>40</td>\n",
       "      <td>M</td>\n",
       "      <td>3</td>\n",
       "      <td>Uneducated</td>\n",
       "      <td>Married</td>\n",
       "      <td>$60K - $80K</td>\n",
       "      <td>Blue</td>\n",
       "      <td>21</td>\n",
       "      <td>...</td>\n",
       "      <td>4716.0</td>\n",
       "      <td>0</td>\n",
       "      <td>4716.0</td>\n",
       "      <td>2.175</td>\n",
       "      <td>816</td>\n",
       "      <td>28</td>\n",
       "      <td>2.500</td>\n",
       "      <td>0.000</td>\n",
       "      <td>0.000022</td>\n",
       "      <td>0.99998</td>\n",
       "    </tr>\n",
       "  </tbody>\n",
       "</table>\n",
       "<p>5 rows × 23 columns</p>\n",
       "</div>"
      ],
      "text/plain": [
       "   CLIENTNUM     Attrition_Flag  Customer_Age Gender  Dependent_count  \\\n",
       "0  768805383  Existing Customer            45      M                3   \n",
       "1  818770008  Existing Customer            49      F                5   \n",
       "2  713982108  Existing Customer            51      M                3   \n",
       "3  769911858  Existing Customer            40      F                4   \n",
       "4  709106358  Existing Customer            40      M                3   \n",
       "\n",
       "  Education_Level Marital_Status Income_Category Card_Category  \\\n",
       "0     High School        Married     $60K - $80K          Blue   \n",
       "1        Graduate         Single  Less than $40K          Blue   \n",
       "2        Graduate        Married    $80K - $120K          Blue   \n",
       "3     High School        Unknown  Less than $40K          Blue   \n",
       "4      Uneducated        Married     $60K - $80K          Blue   \n",
       "\n",
       "   Months_on_book  ...  Credit_Limit  Total_Revolving_Bal  Avg_Open_To_Buy  \\\n",
       "0              39  ...       12691.0                  777          11914.0   \n",
       "1              44  ...        8256.0                  864           7392.0   \n",
       "2              36  ...        3418.0                    0           3418.0   \n",
       "3              34  ...        3313.0                 2517            796.0   \n",
       "4              21  ...        4716.0                    0           4716.0   \n",
       "\n",
       "   Total_Amt_Chng_Q4_Q1  Total_Trans_Amt  Total_Trans_Ct  Total_Ct_Chng_Q4_Q1  \\\n",
       "0                 1.335             1144              42                1.625   \n",
       "1                 1.541             1291              33                3.714   \n",
       "2                 2.594             1887              20                2.333   \n",
       "3                 1.405             1171              20                2.333   \n",
       "4                 2.175              816              28                2.500   \n",
       "\n",
       "   Avg_Utilization_Ratio  \\\n",
       "0                  0.061   \n",
       "1                  0.105   \n",
       "2                  0.000   \n",
       "3                  0.760   \n",
       "4                  0.000   \n",
       "\n",
       "   Naive_Bayes_Classifier_Attrition_Flag_Card_Category_Contacts_Count_12_mon_Dependent_count_Education_Level_Months_Inactive_12_mon_1  \\\n",
       "0                                           0.000093                                                                                    \n",
       "1                                           0.000057                                                                                    \n",
       "2                                           0.000021                                                                                    \n",
       "3                                           0.000134                                                                                    \n",
       "4                                           0.000022                                                                                    \n",
       "\n",
       "   Naive_Bayes_Classifier_Attrition_Flag_Card_Category_Contacts_Count_12_mon_Dependent_count_Education_Level_Months_Inactive_12_mon_2  \n",
       "0                                            0.99991                                                                                   \n",
       "1                                            0.99994                                                                                   \n",
       "2                                            0.99998                                                                                   \n",
       "3                                            0.99987                                                                                   \n",
       "4                                            0.99998                                                                                   \n",
       "\n",
       "[5 rows x 23 columns]"
      ]
     },
     "execution_count": 71,
     "metadata": {},
     "output_type": "execute_result"
    }
   ],
   "source": [
    "data.head()"
   ]
  },
  {
   "attachments": {},
   "cell_type": "markdown",
   "metadata": {},
   "source": [
    "## Análisis y transformación de datos"
   ]
  },
  {
   "cell_type": "code",
   "execution_count": 72,
   "metadata": {},
   "outputs": [
    {
     "name": "stdout",
     "output_type": "stream",
     "text": [
      "<class 'pandas.core.frame.DataFrame'>\n",
      "RangeIndex: 10127 entries, 0 to 10126\n",
      "Data columns (total 23 columns):\n",
      " #   Column                                                                                                                              Non-Null Count  Dtype  \n",
      "---  ------                                                                                                                              --------------  -----  \n",
      " 0   CLIENTNUM                                                                                                                           10127 non-null  int64  \n",
      " 1   Attrition_Flag                                                                                                                      10127 non-null  object \n",
      " 2   Customer_Age                                                                                                                        10127 non-null  int64  \n",
      " 3   Gender                                                                                                                              10127 non-null  object \n",
      " 4   Dependent_count                                                                                                                     10127 non-null  int64  \n",
      " 5   Education_Level                                                                                                                     10127 non-null  object \n",
      " 6   Marital_Status                                                                                                                      10127 non-null  object \n",
      " 7   Income_Category                                                                                                                     10127 non-null  object \n",
      " 8   Card_Category                                                                                                                       10127 non-null  object \n",
      " 9   Months_on_book                                                                                                                      10127 non-null  int64  \n",
      " 10  Total_Relationship_Count                                                                                                            10127 non-null  int64  \n",
      " 11  Months_Inactive_12_mon                                                                                                              10127 non-null  int64  \n",
      " 12  Contacts_Count_12_mon                                                                                                               10127 non-null  int64  \n",
      " 13  Credit_Limit                                                                                                                        10127 non-null  float64\n",
      " 14  Total_Revolving_Bal                                                                                                                 10127 non-null  int64  \n",
      " 15  Avg_Open_To_Buy                                                                                                                     10127 non-null  float64\n",
      " 16  Total_Amt_Chng_Q4_Q1                                                                                                                10127 non-null  float64\n",
      " 17  Total_Trans_Amt                                                                                                                     10127 non-null  int64  \n",
      " 18  Total_Trans_Ct                                                                                                                      10127 non-null  int64  \n",
      " 19  Total_Ct_Chng_Q4_Q1                                                                                                                 10127 non-null  float64\n",
      " 20  Avg_Utilization_Ratio                                                                                                               10127 non-null  float64\n",
      " 21  Naive_Bayes_Classifier_Attrition_Flag_Card_Category_Contacts_Count_12_mon_Dependent_count_Education_Level_Months_Inactive_12_mon_1  10127 non-null  float64\n",
      " 22  Naive_Bayes_Classifier_Attrition_Flag_Card_Category_Contacts_Count_12_mon_Dependent_count_Education_Level_Months_Inactive_12_mon_2  10127 non-null  float64\n",
      "dtypes: float64(7), int64(10), object(6)\n",
      "memory usage: 1.8+ MB\n"
     ]
    }
   ],
   "source": [
    "data.info()"
   ]
  },
  {
   "cell_type": "code",
   "execution_count": 73,
   "metadata": {},
   "outputs": [
    {
     "data": {
      "text/plain": [
       "array([dtype('int64'), dtype('O'), dtype('float64')], dtype=object)"
      ]
     },
     "execution_count": 73,
     "metadata": {},
     "output_type": "execute_result"
    }
   ],
   "source": [
    "data.dtypes.unique()"
   ]
  },
  {
   "cell_type": "code",
   "execution_count": 74,
   "metadata": {},
   "outputs": [],
   "source": [
    "data.drop(columns = [\"Naive_Bayes_Classifier_Attrition_Flag_Card_Category_Contacts_Count_12_mon_Dependent_count_Education_Level_Months_Inactive_12_mon_1\",\n",
    "                     \"Naive_Bayes_Classifier_Attrition_Flag_Card_Category_Contacts_Count_12_mon_Dependent_count_Education_Level_Months_Inactive_12_mon_2\"], \n",
    "          inplace = True)"
   ]
  },
  {
   "cell_type": "code",
   "execution_count": 75,
   "metadata": {},
   "outputs": [
    {
     "name": "stdout",
     "output_type": "stream",
     "text": [
      "<class 'pandas.core.frame.DataFrame'>\n",
      "RangeIndex: 10127 entries, 0 to 10126\n",
      "Data columns (total 21 columns):\n",
      " #   Column                    Non-Null Count  Dtype  \n",
      "---  ------                    --------------  -----  \n",
      " 0   CLIENTNUM                 10127 non-null  int64  \n",
      " 1   Attrition_Flag            10127 non-null  object \n",
      " 2   Customer_Age              10127 non-null  int64  \n",
      " 3   Gender                    10127 non-null  object \n",
      " 4   Dependent_count           10127 non-null  int64  \n",
      " 5   Education_Level           10127 non-null  object \n",
      " 6   Marital_Status            10127 non-null  object \n",
      " 7   Income_Category           10127 non-null  object \n",
      " 8   Card_Category             10127 non-null  object \n",
      " 9   Months_on_book            10127 non-null  int64  \n",
      " 10  Total_Relationship_Count  10127 non-null  int64  \n",
      " 11  Months_Inactive_12_mon    10127 non-null  int64  \n",
      " 12  Contacts_Count_12_mon     10127 non-null  int64  \n",
      " 13  Credit_Limit              10127 non-null  float64\n",
      " 14  Total_Revolving_Bal       10127 non-null  int64  \n",
      " 15  Avg_Open_To_Buy           10127 non-null  float64\n",
      " 16  Total_Amt_Chng_Q4_Q1      10127 non-null  float64\n",
      " 17  Total_Trans_Amt           10127 non-null  int64  \n",
      " 18  Total_Trans_Ct            10127 non-null  int64  \n",
      " 19  Total_Ct_Chng_Q4_Q1       10127 non-null  float64\n",
      " 20  Avg_Utilization_Ratio     10127 non-null  float64\n",
      "dtypes: float64(5), int64(10), object(6)\n",
      "memory usage: 1.6+ MB\n"
     ]
    }
   ],
   "source": [
    "data.info()"
   ]
  },
  {
   "cell_type": "code",
   "execution_count": 76,
   "metadata": {},
   "outputs": [
    {
     "data": {
      "text/html": [
       "<div>\n",
       "<style scoped>\n",
       "    .dataframe tbody tr th:only-of-type {\n",
       "        vertical-align: middle;\n",
       "    }\n",
       "\n",
       "    .dataframe tbody tr th {\n",
       "        vertical-align: top;\n",
       "    }\n",
       "\n",
       "    .dataframe thead th {\n",
       "        text-align: right;\n",
       "    }\n",
       "</style>\n",
       "<table border=\"1\" class=\"dataframe\">\n",
       "  <thead>\n",
       "    <tr style=\"text-align: right;\">\n",
       "      <th></th>\n",
       "      <th>CLIENTNUM</th>\n",
       "      <th>Customer_Age</th>\n",
       "      <th>Dependent_count</th>\n",
       "      <th>Months_on_book</th>\n",
       "      <th>Total_Relationship_Count</th>\n",
       "      <th>Months_Inactive_12_mon</th>\n",
       "      <th>Contacts_Count_12_mon</th>\n",
       "      <th>Credit_Limit</th>\n",
       "      <th>Total_Revolving_Bal</th>\n",
       "      <th>Avg_Open_To_Buy</th>\n",
       "      <th>Total_Amt_Chng_Q4_Q1</th>\n",
       "      <th>Total_Trans_Amt</th>\n",
       "      <th>Total_Trans_Ct</th>\n",
       "      <th>Total_Ct_Chng_Q4_Q1</th>\n",
       "      <th>Avg_Utilization_Ratio</th>\n",
       "    </tr>\n",
       "  </thead>\n",
       "  <tbody>\n",
       "    <tr>\n",
       "      <th>count</th>\n",
       "      <td>1.012700e+04</td>\n",
       "      <td>10127.000000</td>\n",
       "      <td>10127.000000</td>\n",
       "      <td>10127.000000</td>\n",
       "      <td>10127.000000</td>\n",
       "      <td>10127.000000</td>\n",
       "      <td>10127.000000</td>\n",
       "      <td>10127.000000</td>\n",
       "      <td>10127.000000</td>\n",
       "      <td>10127.000000</td>\n",
       "      <td>10127.000000</td>\n",
       "      <td>10127.000000</td>\n",
       "      <td>10127.000000</td>\n",
       "      <td>10127.000000</td>\n",
       "      <td>10127.000000</td>\n",
       "    </tr>\n",
       "    <tr>\n",
       "      <th>mean</th>\n",
       "      <td>7.391776e+08</td>\n",
       "      <td>46.325960</td>\n",
       "      <td>2.346203</td>\n",
       "      <td>35.928409</td>\n",
       "      <td>3.812580</td>\n",
       "      <td>2.341167</td>\n",
       "      <td>2.455317</td>\n",
       "      <td>8631.953698</td>\n",
       "      <td>1162.814061</td>\n",
       "      <td>7469.139637</td>\n",
       "      <td>0.759941</td>\n",
       "      <td>4404.086304</td>\n",
       "      <td>64.858695</td>\n",
       "      <td>0.712222</td>\n",
       "      <td>0.274894</td>\n",
       "    </tr>\n",
       "    <tr>\n",
       "      <th>std</th>\n",
       "      <td>3.690378e+07</td>\n",
       "      <td>8.016814</td>\n",
       "      <td>1.298908</td>\n",
       "      <td>7.986416</td>\n",
       "      <td>1.554408</td>\n",
       "      <td>1.010622</td>\n",
       "      <td>1.106225</td>\n",
       "      <td>9088.776650</td>\n",
       "      <td>814.987335</td>\n",
       "      <td>9090.685324</td>\n",
       "      <td>0.219207</td>\n",
       "      <td>3397.129254</td>\n",
       "      <td>23.472570</td>\n",
       "      <td>0.238086</td>\n",
       "      <td>0.275691</td>\n",
       "    </tr>\n",
       "    <tr>\n",
       "      <th>min</th>\n",
       "      <td>7.080821e+08</td>\n",
       "      <td>26.000000</td>\n",
       "      <td>0.000000</td>\n",
       "      <td>13.000000</td>\n",
       "      <td>1.000000</td>\n",
       "      <td>0.000000</td>\n",
       "      <td>0.000000</td>\n",
       "      <td>1438.300000</td>\n",
       "      <td>0.000000</td>\n",
       "      <td>3.000000</td>\n",
       "      <td>0.000000</td>\n",
       "      <td>510.000000</td>\n",
       "      <td>10.000000</td>\n",
       "      <td>0.000000</td>\n",
       "      <td>0.000000</td>\n",
       "    </tr>\n",
       "    <tr>\n",
       "      <th>25%</th>\n",
       "      <td>7.130368e+08</td>\n",
       "      <td>41.000000</td>\n",
       "      <td>1.000000</td>\n",
       "      <td>31.000000</td>\n",
       "      <td>3.000000</td>\n",
       "      <td>2.000000</td>\n",
       "      <td>2.000000</td>\n",
       "      <td>2555.000000</td>\n",
       "      <td>359.000000</td>\n",
       "      <td>1324.500000</td>\n",
       "      <td>0.631000</td>\n",
       "      <td>2155.500000</td>\n",
       "      <td>45.000000</td>\n",
       "      <td>0.582000</td>\n",
       "      <td>0.023000</td>\n",
       "    </tr>\n",
       "    <tr>\n",
       "      <th>50%</th>\n",
       "      <td>7.179264e+08</td>\n",
       "      <td>46.000000</td>\n",
       "      <td>2.000000</td>\n",
       "      <td>36.000000</td>\n",
       "      <td>4.000000</td>\n",
       "      <td>2.000000</td>\n",
       "      <td>2.000000</td>\n",
       "      <td>4549.000000</td>\n",
       "      <td>1276.000000</td>\n",
       "      <td>3474.000000</td>\n",
       "      <td>0.736000</td>\n",
       "      <td>3899.000000</td>\n",
       "      <td>67.000000</td>\n",
       "      <td>0.702000</td>\n",
       "      <td>0.176000</td>\n",
       "    </tr>\n",
       "    <tr>\n",
       "      <th>75%</th>\n",
       "      <td>7.731435e+08</td>\n",
       "      <td>52.000000</td>\n",
       "      <td>3.000000</td>\n",
       "      <td>40.000000</td>\n",
       "      <td>5.000000</td>\n",
       "      <td>3.000000</td>\n",
       "      <td>3.000000</td>\n",
       "      <td>11067.500000</td>\n",
       "      <td>1784.000000</td>\n",
       "      <td>9859.000000</td>\n",
       "      <td>0.859000</td>\n",
       "      <td>4741.000000</td>\n",
       "      <td>81.000000</td>\n",
       "      <td>0.818000</td>\n",
       "      <td>0.503000</td>\n",
       "    </tr>\n",
       "    <tr>\n",
       "      <th>max</th>\n",
       "      <td>8.283431e+08</td>\n",
       "      <td>73.000000</td>\n",
       "      <td>5.000000</td>\n",
       "      <td>56.000000</td>\n",
       "      <td>6.000000</td>\n",
       "      <td>6.000000</td>\n",
       "      <td>6.000000</td>\n",
       "      <td>34516.000000</td>\n",
       "      <td>2517.000000</td>\n",
       "      <td>34516.000000</td>\n",
       "      <td>3.397000</td>\n",
       "      <td>18484.000000</td>\n",
       "      <td>139.000000</td>\n",
       "      <td>3.714000</td>\n",
       "      <td>0.999000</td>\n",
       "    </tr>\n",
       "  </tbody>\n",
       "</table>\n",
       "</div>"
      ],
      "text/plain": [
       "          CLIENTNUM  Customer_Age  Dependent_count  Months_on_book  \\\n",
       "count  1.012700e+04  10127.000000     10127.000000    10127.000000   \n",
       "mean   7.391776e+08     46.325960         2.346203       35.928409   \n",
       "std    3.690378e+07      8.016814         1.298908        7.986416   \n",
       "min    7.080821e+08     26.000000         0.000000       13.000000   \n",
       "25%    7.130368e+08     41.000000         1.000000       31.000000   \n",
       "50%    7.179264e+08     46.000000         2.000000       36.000000   \n",
       "75%    7.731435e+08     52.000000         3.000000       40.000000   \n",
       "max    8.283431e+08     73.000000         5.000000       56.000000   \n",
       "\n",
       "       Total_Relationship_Count  Months_Inactive_12_mon  \\\n",
       "count              10127.000000            10127.000000   \n",
       "mean                   3.812580                2.341167   \n",
       "std                    1.554408                1.010622   \n",
       "min                    1.000000                0.000000   \n",
       "25%                    3.000000                2.000000   \n",
       "50%                    4.000000                2.000000   \n",
       "75%                    5.000000                3.000000   \n",
       "max                    6.000000                6.000000   \n",
       "\n",
       "       Contacts_Count_12_mon  Credit_Limit  Total_Revolving_Bal  \\\n",
       "count           10127.000000  10127.000000         10127.000000   \n",
       "mean                2.455317   8631.953698          1162.814061   \n",
       "std                 1.106225   9088.776650           814.987335   \n",
       "min                 0.000000   1438.300000             0.000000   \n",
       "25%                 2.000000   2555.000000           359.000000   \n",
       "50%                 2.000000   4549.000000          1276.000000   \n",
       "75%                 3.000000  11067.500000          1784.000000   \n",
       "max                 6.000000  34516.000000          2517.000000   \n",
       "\n",
       "       Avg_Open_To_Buy  Total_Amt_Chng_Q4_Q1  Total_Trans_Amt  Total_Trans_Ct  \\\n",
       "count     10127.000000          10127.000000     10127.000000    10127.000000   \n",
       "mean       7469.139637              0.759941      4404.086304       64.858695   \n",
       "std        9090.685324              0.219207      3397.129254       23.472570   \n",
       "min           3.000000              0.000000       510.000000       10.000000   \n",
       "25%        1324.500000              0.631000      2155.500000       45.000000   \n",
       "50%        3474.000000              0.736000      3899.000000       67.000000   \n",
       "75%        9859.000000              0.859000      4741.000000       81.000000   \n",
       "max       34516.000000              3.397000     18484.000000      139.000000   \n",
       "\n",
       "       Total_Ct_Chng_Q4_Q1  Avg_Utilization_Ratio  \n",
       "count         10127.000000           10127.000000  \n",
       "mean              0.712222               0.274894  \n",
       "std               0.238086               0.275691  \n",
       "min               0.000000               0.000000  \n",
       "25%               0.582000               0.023000  \n",
       "50%               0.702000               0.176000  \n",
       "75%               0.818000               0.503000  \n",
       "max               3.714000               0.999000  "
      ]
     },
     "execution_count": 76,
     "metadata": {},
     "output_type": "execute_result"
    }
   ],
   "source": [
    "data.describe()"
   ]
  },
  {
   "cell_type": "code",
   "execution_count": 77,
   "metadata": {},
   "outputs": [
    {
     "data": {
      "text/plain": [
       "array([8500, 1627], dtype=int64)"
      ]
     },
     "execution_count": 77,
     "metadata": {},
     "output_type": "execute_result"
    }
   ],
   "source": [
    "data[\"Attrition_Flag\"].value_counts().values"
   ]
  },
  {
   "cell_type": "code",
   "execution_count": 78,
   "metadata": {},
   "outputs": [
    {
     "data": {
      "text/plain": [
       "<Figure size 2880x2880 with 0 Axes>"
      ]
     },
     "execution_count": 78,
     "metadata": {},
     "output_type": "execute_result"
    },
    {
     "data": {
      "image/png": "[encoded data removed]",
      "text/plain": [
       "<Figure size 432x288 with 1 Axes>"
      ]
     },
     "metadata": {
      "needs_background": "light"
     },
     "output_type": "display_data"
    },
    {
     "data": {
      "text/plain": [
       "<Figure size 2880x2880 with 0 Axes>"
      ]
     },
     "metadata": {},
     "output_type": "display_data"
    }
   ],
   "source": [
    "plt.bar(data[\"Attrition_Flag\"].value_counts().index, data[\"Attrition_Flag\"].value_counts().values)"
   ]
  },
  {
   "cell_type": "code",
   "execution_count": 79,
   "metadata": {},
   "outputs": [],
   "source": [
    "data.replace({\"Existing Customer\":0, \"Attrited Customer\":1}, inplace = True)"
   ]
  },
  {
   "cell_type": "code",
   "execution_count": 80,
   "metadata": {},
   "outputs": [],
   "source": [
    "data = pd.get_dummies(data)"
   ]
  },
  {
   "cell_type": "code",
   "execution_count": 81,
   "metadata": {},
   "outputs": [
    {
     "name": "stdout",
     "output_type": "stream",
     "text": [
      "<class 'pandas.core.frame.DataFrame'>\n",
      "RangeIndex: 10127 entries, 0 to 10126\n",
      "Data columns (total 39 columns):\n",
      " #   Column                          Non-Null Count  Dtype  \n",
      "---  ------                          --------------  -----  \n",
      " 0   CLIENTNUM                       10127 non-null  int64  \n",
      " 1   Attrition_Flag                  10127 non-null  int64  \n",
      " 2   Customer_Age                    10127 non-null  int64  \n",
      " 3   Dependent_count                 10127 non-null  int64  \n",
      " 4   Months_on_book                  10127 non-null  int64  \n",
      " 5   Total_Relationship_Count        10127 non-null  int64  \n",
      " 6   Months_Inactive_12_mon          10127 non-null  int64  \n",
      " 7   Contacts_Count_12_mon           10127 non-null  int64  \n",
      " 8   Credit_Limit                    10127 non-null  float64\n",
      " 9   Total_Revolving_Bal             10127 non-null  int64  \n",
      " 10  Avg_Open_To_Buy                 10127 non-null  float64\n",
      " 11  Total_Amt_Chng_Q4_Q1            10127 non-null  float64\n",
      " 12  Total_Trans_Amt                 10127 non-null  int64  \n",
      " 13  Total_Trans_Ct                  10127 non-null  int64  \n",
      " 14  Total_Ct_Chng_Q4_Q1             10127 non-null  float64\n",
      " 15  Avg_Utilization_Ratio           10127 non-null  float64\n",
      " 16  Gender_F                        10127 non-null  uint8  \n",
      " 17  Gender_M                        10127 non-null  uint8  \n",
      " 18  Education_Level_College         10127 non-null  uint8  \n",
      " 19  Education_Level_Doctorate       10127 non-null  uint8  \n",
      " 20  Education_Level_Graduate        10127 non-null  uint8  \n",
      " 21  Education_Level_High School     10127 non-null  uint8  \n",
      " 22  Education_Level_Post-Graduate   10127 non-null  uint8  \n",
      " 23  Education_Level_Uneducated      10127 non-null  uint8  \n",
      " 24  Education_Level_Unknown         10127 non-null  uint8  \n",
      " 25  Marital_Status_Divorced         10127 non-null  uint8  \n",
      " 26  Marital_Status_Married          10127 non-null  uint8  \n",
      " 27  Marital_Status_Single           10127 non-null  uint8  \n",
      " 28  Marital_Status_Unknown          10127 non-null  uint8  \n",
      " 29  Income_Category_$120K +         10127 non-null  uint8  \n",
      " 30  Income_Category_$40K - $60K     10127 non-null  uint8  \n",
      " 31  Income_Category_$60K - $80K     10127 non-null  uint8  \n",
      " 32  Income_Category_$80K - $120K    10127 non-null  uint8  \n",
      " 33  Income_Category_Less than $40K  10127 non-null  uint8  \n",
      " 34  Income_Category_Unknown         10127 non-null  uint8  \n",
      " 35  Card_Category_Blue              10127 non-null  uint8  \n",
      " 36  Card_Category_Gold              10127 non-null  uint8  \n",
      " 37  Card_Category_Platinum          10127 non-null  uint8  \n",
      " 38  Card_Category_Silver            10127 non-null  uint8  \n",
      "dtypes: float64(5), int64(11), uint8(23)\n",
      "memory usage: 1.5 MB\n"
     ]
    }
   ],
   "source": [
    "data.info()"
   ]
  },
  {
   "cell_type": "code",
   "execution_count": 82,
   "metadata": {},
   "outputs": [
    {
     "data": {
      "text/html": [
       "<div>\n",
       "<style scoped>\n",
       "    .dataframe tbody tr th:only-of-type {\n",
       "        vertical-align: middle;\n",
       "    }\n",
       "\n",
       "    .dataframe tbody tr th {\n",
       "        vertical-align: top;\n",
       "    }\n",
       "\n",
       "    .dataframe thead th {\n",
       "        text-align: right;\n",
       "    }\n",
       "</style>\n",
       "<table border=\"1\" class=\"dataframe\">\n",
       "  <thead>\n",
       "    <tr style=\"text-align: right;\">\n",
       "      <th></th>\n",
       "      <th>CLIENTNUM</th>\n",
       "      <th>Attrition_Flag</th>\n",
       "      <th>Customer_Age</th>\n",
       "      <th>Dependent_count</th>\n",
       "      <th>Months_on_book</th>\n",
       "      <th>Total_Relationship_Count</th>\n",
       "      <th>Months_Inactive_12_mon</th>\n",
       "      <th>Contacts_Count_12_mon</th>\n",
       "      <th>Credit_Limit</th>\n",
       "      <th>Total_Revolving_Bal</th>\n",
       "      <th>...</th>\n",
       "      <th>Income_Category_$120K +</th>\n",
       "      <th>Income_Category_$40K - $60K</th>\n",
       "      <th>Income_Category_$60K - $80K</th>\n",
       "      <th>Income_Category_$80K - $120K</th>\n",
       "      <th>Income_Category_Less than $40K</th>\n",
       "      <th>Income_Category_Unknown</th>\n",
       "      <th>Card_Category_Blue</th>\n",
       "      <th>Card_Category_Gold</th>\n",
       "      <th>Card_Category_Platinum</th>\n",
       "      <th>Card_Category_Silver</th>\n",
       "    </tr>\n",
       "  </thead>\n",
       "  <tbody>\n",
       "    <tr>\n",
       "      <th>0</th>\n",
       "      <td>768805383</td>\n",
       "      <td>0</td>\n",
       "      <td>45</td>\n",
       "      <td>3</td>\n",
       "      <td>39</td>\n",
       "      <td>5</td>\n",
       "      <td>1</td>\n",
       "      <td>3</td>\n",
       "      <td>12691.0</td>\n",
       "      <td>777</td>\n",
       "      <td>...</td>\n",
       "      <td>0</td>\n",
       "      <td>0</td>\n",
       "      <td>1</td>\n",
       "      <td>0</td>\n",
       "      <td>0</td>\n",
       "      <td>0</td>\n",
       "      <td>1</td>\n",
       "      <td>0</td>\n",
       "      <td>0</td>\n",
       "      <td>0</td>\n",
       "    </tr>\n",
       "    <tr>\n",
       "      <th>1</th>\n",
       "      <td>818770008</td>\n",
       "      <td>0</td>\n",
       "      <td>49</td>\n",
       "      <td>5</td>\n",
       "      <td>44</td>\n",
       "      <td>6</td>\n",
       "      <td>1</td>\n",
       "      <td>2</td>\n",
       "      <td>8256.0</td>\n",
       "      <td>864</td>\n",
       "      <td>...</td>\n",
       "      <td>0</td>\n",
       "      <td>0</td>\n",
       "      <td>0</td>\n",
       "      <td>0</td>\n",
       "      <td>1</td>\n",
       "      <td>0</td>\n",
       "      <td>1</td>\n",
       "      <td>0</td>\n",
       "      <td>0</td>\n",
       "      <td>0</td>\n",
       "    </tr>\n",
       "    <tr>\n",
       "      <th>2</th>\n",
       "      <td>713982108</td>\n",
       "      <td>0</td>\n",
       "      <td>51</td>\n",
       "      <td>3</td>\n",
       "      <td>36</td>\n",
       "      <td>4</td>\n",
       "      <td>1</td>\n",
       "      <td>0</td>\n",
       "      <td>3418.0</td>\n",
       "      <td>0</td>\n",
       "      <td>...</td>\n",
       "      <td>0</td>\n",
       "      <td>0</td>\n",
       "      <td>0</td>\n",
       "      <td>1</td>\n",
       "      <td>0</td>\n",
       "      <td>0</td>\n",
       "      <td>1</td>\n",
       "      <td>0</td>\n",
       "      <td>0</td>\n",
       "      <td>0</td>\n",
       "    </tr>\n",
       "    <tr>\n",
       "      <th>3</th>\n",
       "      <td>769911858</td>\n",
       "      <td>0</td>\n",
       "      <td>40</td>\n",
       "      <td>4</td>\n",
       "      <td>34</td>\n",
       "      <td>3</td>\n",
       "      <td>4</td>\n",
       "      <td>1</td>\n",
       "      <td>3313.0</td>\n",
       "      <td>2517</td>\n",
       "      <td>...</td>\n",
       "      <td>0</td>\n",
       "      <td>0</td>\n",
       "      <td>0</td>\n",
       "      <td>0</td>\n",
       "      <td>1</td>\n",
       "      <td>0</td>\n",
       "      <td>1</td>\n",
       "      <td>0</td>\n",
       "      <td>0</td>\n",
       "      <td>0</td>\n",
       "    </tr>\n",
       "    <tr>\n",
       "      <th>4</th>\n",
       "      <td>709106358</td>\n",
       "      <td>0</td>\n",
       "      <td>40</td>\n",
       "      <td>3</td>\n",
       "      <td>21</td>\n",
       "      <td>5</td>\n",
       "      <td>1</td>\n",
       "      <td>0</td>\n",
       "      <td>4716.0</td>\n",
       "      <td>0</td>\n",
       "      <td>...</td>\n",
       "      <td>0</td>\n",
       "      <td>0</td>\n",
       "      <td>1</td>\n",
       "      <td>0</td>\n",
       "      <td>0</td>\n",
       "      <td>0</td>\n",
       "      <td>1</td>\n",
       "      <td>0</td>\n",
       "      <td>0</td>\n",
       "      <td>0</td>\n",
       "    </tr>\n",
       "  </tbody>\n",
       "</table>\n",
       "<p>5 rows × 39 columns</p>\n",
       "</div>"
      ],
      "text/plain": [
       "   CLIENTNUM  Attrition_Flag  Customer_Age  Dependent_count  Months_on_book  \\\n",
       "0  768805383               0            45                3              39   \n",
       "1  818770008               0            49                5              44   \n",
       "2  713982108               0            51                3              36   \n",
       "3  769911858               0            40                4              34   \n",
       "4  709106358               0            40                3              21   \n",
       "\n",
       "   Total_Relationship_Count  Months_Inactive_12_mon  Contacts_Count_12_mon  \\\n",
       "0                         5                       1                      3   \n",
       "1                         6                       1                      2   \n",
       "2                         4                       1                      0   \n",
       "3                         3                       4                      1   \n",
       "4                         5                       1                      0   \n",
       "\n",
       "   Credit_Limit  Total_Revolving_Bal  ...  Income_Category_$120K +  \\\n",
       "0       12691.0                  777  ...                        0   \n",
       "1        8256.0                  864  ...                        0   \n",
       "2        3418.0                    0  ...                        0   \n",
       "3        3313.0                 2517  ...                        0   \n",
       "4        4716.0                    0  ...                        0   \n",
       "\n",
       "   Income_Category_$40K - $60K  Income_Category_$60K - $80K  \\\n",
       "0                            0                            1   \n",
       "1                            0                            0   \n",
       "2                            0                            0   \n",
       "3                            0                            0   \n",
       "4                            0                            1   \n",
       "\n",
       "   Income_Category_$80K - $120K  Income_Category_Less than $40K  \\\n",
       "0                             0                               0   \n",
       "1                             0                               1   \n",
       "2                             1                               0   \n",
       "3                             0                               1   \n",
       "4                             0                               0   \n",
       "\n",
       "   Income_Category_Unknown  Card_Category_Blue  Card_Category_Gold  \\\n",
       "0                        0                   1                   0   \n",
       "1                        0                   1                   0   \n",
       "2                        0                   1                   0   \n",
       "3                        0                   1                   0   \n",
       "4                        0                   1                   0   \n",
       "\n",
       "   Card_Category_Platinum  Card_Category_Silver  \n",
       "0                       0                     0  \n",
       "1                       0                     0  \n",
       "2                       0                     0  \n",
       "3                       0                     0  \n",
       "4                       0                     0  \n",
       "\n",
       "[5 rows x 39 columns]"
      ]
     },
     "execution_count": 82,
     "metadata": {},
     "output_type": "execute_result"
    }
   ],
   "source": [
    "data.head()"
   ]
  },
  {
   "cell_type": "code",
   "execution_count": 83,
   "metadata": {},
   "outputs": [],
   "source": [
    "data.drop(columns = \"CLIENTNUM\", inplace = True)"
   ]
  },
  {
   "cell_type": "code",
   "execution_count": 85,
   "metadata": {},
   "outputs": [
    {
     "data": {
      "text/plain": [
       "38"
      ]
     },
     "execution_count": 85,
     "metadata": {},
     "output_type": "execute_result"
    }
   ],
   "source": [
    "len(data.columns)"
   ]
  },
  {
   "attachments": {},
   "cell_type": "markdown",
   "metadata": {},
   "source": [
    "## Dividimos entre train y test"
   ]
  },
  {
   "cell_type": "code",
   "execution_count": 86,
   "metadata": {},
   "outputs": [],
   "source": [
    "x = data.drop(columns = \"Attrition_Flag\")\n",
    "y = data[\"Attrition_Flag\"]"
   ]
  },
  {
   "cell_type": "code",
   "execution_count": 87,
   "metadata": {},
   "outputs": [],
   "source": [
    "xtrain, xtest, ytrain, ytest = train_test_split(x, y, test_size = 0.2, shuffle = True, random_state=2)"
   ]
  },
  {
   "cell_type": "code",
   "execution_count": 88,
   "metadata": {},
   "outputs": [
    {
     "name": "stdout",
     "output_type": "stream",
     "text": [
      "(8101, 37)\n",
      "(8101,)\n",
      "(2026, 37)\n",
      "(2026,)\n"
     ]
    }
   ],
   "source": [
    "print(xtrain.shape)\n",
    "print(ytrain.shape)\n",
    "print(xtest.shape)\n",
    "print(ytest.shape)"
   ]
  },
  {
   "cell_type": "code",
   "execution_count": 89,
   "metadata": {},
   "outputs": [],
   "source": [
    "for col in x.columns:\n",
    "    x[col] = x[col].apply(pd.to_numeric)"
   ]
  },
  {
   "attachments": {},
   "cell_type": "markdown",
   "metadata": {},
   "source": [
    "## Creación del modelo"
   ]
  },
  {
   "cell_type": "code",
   "execution_count": 90,
   "metadata": {},
   "outputs": [],
   "source": [
    "capas = [\n",
    "    keras.layers.Dense(units = 37, activation = \"relu\"), \n",
    "    keras.layers.Dense(units = 150, activation = \"relu\"),\n",
    "    keras.layers.Dense(units = 300, activation = \"relu\"),\n",
    "    keras.layers.Dense(units = 400, activation = \"relu\"),\n",
    "    keras.layers.Dense(units = 300, activation = \"relu\"),\n",
    "    keras.layers.Dense(units = 150, activation = \"relu\"),\n",
    "    keras.layers.Dense(units = 1, activation = \"sigmoid\")]"
   ]
  },
  {
   "cell_type": "code",
   "execution_count": 42,
   "metadata": {},
   "outputs": [],
   "source": [
    "model = keras.Sequential(capas)"
   ]
  },
  {
   "cell_type": "code",
   "execution_count": 43,
   "metadata": {},
   "outputs": [],
   "source": [
    "model.compile(optimizer = \"adam\", \n",
    "              loss = \"binary_crossentropy\",\n",
    "              metrics = [\"accuracy\"])"
   ]
  },
  {
   "cell_type": "code",
   "execution_count": 44,
   "metadata": {},
   "outputs": [
    {
     "name": "stdout",
     "output_type": "stream",
     "text": [
      "Epoch 1/50\n",
      "203/203 [==============================] - 1s 4ms/step - loss: 8.8684 - accuracy: 0.7721 - val_loss: 0.5620 - val_accuracy: 0.8007\n",
      "Epoch 2/50\n",
      "203/203 [==============================] - 1s 3ms/step - loss: 0.6342 - accuracy: 0.8156 - val_loss: 0.5146 - val_accuracy: 0.8415\n",
      "Epoch 3/50\n",
      "203/203 [==============================] - 1s 3ms/step - loss: 0.4578 - accuracy: 0.8253 - val_loss: 0.3841 - val_accuracy: 0.8427\n",
      "Epoch 4/50\n",
      "203/203 [==============================] - 1s 3ms/step - loss: 0.4394 - accuracy: 0.8259 - val_loss: 0.3880 - val_accuracy: 0.8384\n",
      "Epoch 5/50\n",
      "203/203 [==============================] - 1s 3ms/step - loss: 0.4343 - accuracy: 0.8304 - val_loss: 0.4064 - val_accuracy: 0.8180\n",
      "Epoch 6/50\n",
      "203/203 [==============================] - 1s 3ms/step - loss: 0.4000 - accuracy: 0.8332 - val_loss: 0.3838 - val_accuracy: 0.8205\n",
      "Epoch 7/50\n",
      "203/203 [==============================] - 1s 3ms/step - loss: 0.4009 - accuracy: 0.8340 - val_loss: 0.3611 - val_accuracy: 0.8427\n",
      "Epoch 8/50\n",
      "203/203 [==============================] - 1s 3ms/step - loss: 0.4165 - accuracy: 0.8318 - val_loss: 0.3965 - val_accuracy: 0.8168\n",
      "Epoch 9/50\n",
      "203/203 [==============================] - 1s 3ms/step - loss: 0.3717 - accuracy: 0.8403 - val_loss: 0.3677 - val_accuracy: 0.8501\n",
      "Epoch 10/50\n",
      "203/203 [==============================] - 1s 3ms/step - loss: 0.3768 - accuracy: 0.8434 - val_loss: 0.3544 - val_accuracy: 0.8495\n",
      "Epoch 11/50\n",
      "203/203 [==============================] - 1s 4ms/step - loss: 0.3843 - accuracy: 0.8414 - val_loss: 0.3663 - val_accuracy: 0.8365\n",
      "Epoch 12/50\n",
      "203/203 [==============================] - 1s 4ms/step - loss: 0.3808 - accuracy: 0.8406 - val_loss: 0.3632 - val_accuracy: 0.8371\n",
      "Epoch 13/50\n",
      "203/203 [==============================] - 1s 3ms/step - loss: 0.3749 - accuracy: 0.8386 - val_loss: 0.3690 - val_accuracy: 0.8519\n",
      "Epoch 14/50\n",
      "203/203 [==============================] - 1s 3ms/step - loss: 0.3821 - accuracy: 0.8403 - val_loss: 0.4782 - val_accuracy: 0.7736\n",
      "Epoch 15/50\n",
      "203/203 [==============================] - 1s 4ms/step - loss: 0.3847 - accuracy: 0.8377 - val_loss: 0.3714 - val_accuracy: 0.8328\n",
      "Epoch 16/50\n",
      "203/203 [==============================] - 1s 5ms/step - loss: 0.3653 - accuracy: 0.8378 - val_loss: 0.3713 - val_accuracy: 0.8192\n",
      "Epoch 17/50\n",
      "203/203 [==============================] - 1s 5ms/step - loss: 0.3677 - accuracy: 0.8401 - val_loss: 0.3776 - val_accuracy: 0.8334\n",
      "Epoch 18/50\n",
      "203/203 [==============================] - 1s 5ms/step - loss: 0.3602 - accuracy: 0.8404 - val_loss: 0.4160 - val_accuracy: 0.8020\n",
      "Epoch 19/50\n",
      "203/203 [==============================] - 1s 5ms/step - loss: 0.3713 - accuracy: 0.8423 - val_loss: 0.3602 - val_accuracy: 0.8495\n",
      "Epoch 20/50\n",
      "203/203 [==============================] - 1s 5ms/step - loss: 0.3679 - accuracy: 0.8404 - val_loss: 0.3865 - val_accuracy: 0.8242\n",
      "Epoch 21/50\n",
      "203/203 [==============================] - 1s 5ms/step - loss: 0.3674 - accuracy: 0.8417 - val_loss: 0.3506 - val_accuracy: 0.8334\n",
      "Epoch 22/50\n",
      "203/203 [==============================] - 1s 5ms/step - loss: 0.3600 - accuracy: 0.8444 - val_loss: 0.3590 - val_accuracy: 0.8353\n",
      "Epoch 23/50\n",
      "203/203 [==============================] - 1s 4ms/step - loss: 0.3574 - accuracy: 0.8441 - val_loss: 0.3821 - val_accuracy: 0.8408\n",
      "Epoch 24/50\n",
      "203/203 [==============================] - 1s 4ms/step - loss: 0.3590 - accuracy: 0.8432 - val_loss: 0.3694 - val_accuracy: 0.8334\n",
      "Epoch 25/50\n",
      "203/203 [==============================] - 1s 5ms/step - loss: 0.3636 - accuracy: 0.8451 - val_loss: 0.3693 - val_accuracy: 0.8433\n",
      "Epoch 26/50\n",
      "203/203 [==============================] - 1s 4ms/step - loss: 0.3554 - accuracy: 0.8492 - val_loss: 0.3476 - val_accuracy: 0.8353\n",
      "Epoch 27/50\n",
      "203/203 [==============================] - 1s 5ms/step - loss: 0.3489 - accuracy: 0.8505 - val_loss: 0.3537 - val_accuracy: 0.8452\n",
      "Epoch 28/50\n",
      "203/203 [==============================] - 1s 5ms/step - loss: 0.3492 - accuracy: 0.8512 - val_loss: 0.3444 - val_accuracy: 0.8507\n",
      "Epoch 29/50\n",
      "203/203 [==============================] - 1s 4ms/step - loss: 0.3549 - accuracy: 0.8475 - val_loss: 0.3396 - val_accuracy: 0.8581\n",
      "Epoch 30/50\n",
      "203/203 [==============================] - 1s 4ms/step - loss: 0.3760 - accuracy: 0.8522 - val_loss: 0.4713 - val_accuracy: 0.8353\n",
      "Epoch 31/50\n",
      "203/203 [==============================] - 1s 4ms/step - loss: 0.3722 - accuracy: 0.8457 - val_loss: 0.3410 - val_accuracy: 0.8365\n",
      "Epoch 32/50\n",
      "203/203 [==============================] - 1s 5ms/step - loss: 0.3455 - accuracy: 0.8548 - val_loss: 0.3519 - val_accuracy: 0.8544\n",
      "Epoch 33/50\n",
      "203/203 [==============================] - 1s 4ms/step - loss: 0.3401 - accuracy: 0.8562 - val_loss: 0.3404 - val_accuracy: 0.8569\n",
      "Epoch 34/50\n",
      "203/203 [==============================] - 1s 4ms/step - loss: 0.3478 - accuracy: 0.8603 - val_loss: 0.3434 - val_accuracy: 0.8538\n",
      "Epoch 35/50\n",
      "203/203 [==============================] - 1s 4ms/step - loss: 0.3448 - accuracy: 0.8562 - val_loss: 0.3576 - val_accuracy: 0.8519\n",
      "Epoch 36/50\n",
      "203/203 [==============================] - 1s 4ms/step - loss: 0.3466 - accuracy: 0.8599 - val_loss: 0.3302 - val_accuracy: 0.8674\n",
      "Epoch 37/50\n",
      "203/203 [==============================] - 1s 4ms/step - loss: 0.3312 - accuracy: 0.8650 - val_loss: 0.3516 - val_accuracy: 0.8470\n",
      "Epoch 38/50\n",
      "203/203 [==============================] - 1s 4ms/step - loss: 0.3101 - accuracy: 0.8724 - val_loss: 0.2912 - val_accuracy: 0.8853\n",
      "Epoch 39/50\n",
      "203/203 [==============================] - 1s 4ms/step - loss: 0.3131 - accuracy: 0.8702 - val_loss: 0.3113 - val_accuracy: 0.8760\n",
      "Epoch 40/50\n",
      "203/203 [==============================] - 1s 5ms/step - loss: 0.3129 - accuracy: 0.8719 - val_loss: 0.3266 - val_accuracy: 0.8532\n",
      "Epoch 41/50\n",
      "203/203 [==============================] - 1s 4ms/step - loss: 0.2994 - accuracy: 0.8802 - val_loss: 0.2680 - val_accuracy: 0.8883\n",
      "Epoch 42/50\n",
      "203/203 [==============================] - 1s 4ms/step - loss: 0.3000 - accuracy: 0.8756 - val_loss: 0.3033 - val_accuracy: 0.8606\n",
      "Epoch 43/50\n",
      "203/203 [==============================] - 1s 4ms/step - loss: 0.3181 - accuracy: 0.8730 - val_loss: 0.3235 - val_accuracy: 0.8618\n",
      "Epoch 44/50\n",
      "203/203 [==============================] - 1s 4ms/step - loss: 0.3013 - accuracy: 0.8758 - val_loss: 0.5088 - val_accuracy: 0.7316\n",
      "Epoch 45/50\n",
      "203/203 [==============================] - 1s 4ms/step - loss: 0.3066 - accuracy: 0.8736 - val_loss: 0.2799 - val_accuracy: 0.8828\n",
      "Epoch 46/50\n",
      "203/203 [==============================] - 1s 4ms/step - loss: 0.2850 - accuracy: 0.8806 - val_loss: 0.2566 - val_accuracy: 0.8994\n",
      "Epoch 47/50\n",
      "203/203 [==============================] - 1s 4ms/step - loss: 0.2762 - accuracy: 0.8864 - val_loss: 0.2517 - val_accuracy: 0.9038\n",
      "Epoch 48/50\n",
      "203/203 [==============================] - 1s 4ms/step - loss: 0.2736 - accuracy: 0.8884 - val_loss: 0.2580 - val_accuracy: 0.9013\n",
      "Epoch 49/50\n",
      "203/203 [==============================] - 1s 5ms/step - loss: 0.2656 - accuracy: 0.8897 - val_loss: 0.2626 - val_accuracy: 0.8994\n",
      "Epoch 50/50\n",
      "203/203 [==============================] - 1s 5ms/step - loss: 0.2666 - accuracy: 0.8897 - val_loss: 0.2461 - val_accuracy: 0.9038\n"
     ]
    }
   ],
   "source": [
    "history = model.fit(\n",
    "    xtrain,\n",
    "    ytrain,\n",
    "    batch_size = 32,\n",
    "    epochs = 50,\n",
    "    validation_split = 0.2\n",
    ")"
   ]
  },
  {
   "cell_type": "code",
   "execution_count": 45,
   "metadata": {},
   "outputs": [
    {
     "name": "stdout",
     "output_type": "stream",
     "text": [
      "64/64 [==============================] - 0s 2ms/step - loss: 0.2451 - accuracy: 0.8968\n"
     ]
    },
    {
     "data": {
      "text/plain": [
       "[0.24508322775363922, 0.8968410491943359]"
      ]
     },
     "execution_count": 45,
     "metadata": {},
     "output_type": "execute_result"
    }
   ],
   "source": [
    "model.evaluate(xtest, ytest)"
   ]
  },
  {
   "attachments": {},
   "cell_type": "markdown",
   "metadata": {},
   "source": [
    "## Mejora del modelo"
   ]
  },
  {
   "attachments": {},
   "cell_type": "markdown",
   "metadata": {},
   "source": [
    "#### Vamos a ver si podemos mejorar el score de este modelo"
   ]
  },
  {
   "attachments": {},
   "cell_type": "markdown",
   "metadata": {},
   "source": [
    "## Transformación de datos"
   ]
  },
  {
   "cell_type": "code",
   "execution_count": 91,
   "metadata": {},
   "outputs": [],
   "source": [
    "from sklearn.preprocessing import StandardScaler"
   ]
  },
  {
   "cell_type": "code",
   "execution_count": 92,
   "metadata": {},
   "outputs": [
    {
     "data": {
      "text/html": [
       "<div>\n",
       "<style scoped>\n",
       "    .dataframe tbody tr th:only-of-type {\n",
       "        vertical-align: middle;\n",
       "    }\n",
       "\n",
       "    .dataframe tbody tr th {\n",
       "        vertical-align: top;\n",
       "    }\n",
       "\n",
       "    .dataframe thead th {\n",
       "        text-align: right;\n",
       "    }\n",
       "</style>\n",
       "<table border=\"1\" class=\"dataframe\">\n",
       "  <thead>\n",
       "    <tr style=\"text-align: right;\">\n",
       "      <th></th>\n",
       "      <th>Customer_Age</th>\n",
       "      <th>Dependent_count</th>\n",
       "      <th>Months_on_book</th>\n",
       "      <th>Total_Relationship_Count</th>\n",
       "      <th>Months_Inactive_12_mon</th>\n",
       "      <th>Contacts_Count_12_mon</th>\n",
       "      <th>Credit_Limit</th>\n",
       "      <th>Total_Revolving_Bal</th>\n",
       "      <th>Avg_Open_To_Buy</th>\n",
       "      <th>Total_Amt_Chng_Q4_Q1</th>\n",
       "      <th>...</th>\n",
       "      <th>Income_Category_$120K +</th>\n",
       "      <th>Income_Category_$40K - $60K</th>\n",
       "      <th>Income_Category_$60K - $80K</th>\n",
       "      <th>Income_Category_$80K - $120K</th>\n",
       "      <th>Income_Category_Less than $40K</th>\n",
       "      <th>Income_Category_Unknown</th>\n",
       "      <th>Card_Category_Blue</th>\n",
       "      <th>Card_Category_Gold</th>\n",
       "      <th>Card_Category_Platinum</th>\n",
       "      <th>Card_Category_Silver</th>\n",
       "    </tr>\n",
       "  </thead>\n",
       "  <tbody>\n",
       "    <tr>\n",
       "      <th>0</th>\n",
       "      <td>45</td>\n",
       "      <td>3</td>\n",
       "      <td>39</td>\n",
       "      <td>5</td>\n",
       "      <td>1</td>\n",
       "      <td>3</td>\n",
       "      <td>12691.0</td>\n",
       "      <td>777</td>\n",
       "      <td>11914.0</td>\n",
       "      <td>1.335</td>\n",
       "      <td>...</td>\n",
       "      <td>0</td>\n",
       "      <td>0</td>\n",
       "      <td>1</td>\n",
       "      <td>0</td>\n",
       "      <td>0</td>\n",
       "      <td>0</td>\n",
       "      <td>1</td>\n",
       "      <td>0</td>\n",
       "      <td>0</td>\n",
       "      <td>0</td>\n",
       "    </tr>\n",
       "    <tr>\n",
       "      <th>1</th>\n",
       "      <td>49</td>\n",
       "      <td>5</td>\n",
       "      <td>44</td>\n",
       "      <td>6</td>\n",
       "      <td>1</td>\n",
       "      <td>2</td>\n",
       "      <td>8256.0</td>\n",
       "      <td>864</td>\n",
       "      <td>7392.0</td>\n",
       "      <td>1.541</td>\n",
       "      <td>...</td>\n",
       "      <td>0</td>\n",
       "      <td>0</td>\n",
       "      <td>0</td>\n",
       "      <td>0</td>\n",
       "      <td>1</td>\n",
       "      <td>0</td>\n",
       "      <td>1</td>\n",
       "      <td>0</td>\n",
       "      <td>0</td>\n",
       "      <td>0</td>\n",
       "    </tr>\n",
       "    <tr>\n",
       "      <th>2</th>\n",
       "      <td>51</td>\n",
       "      <td>3</td>\n",
       "      <td>36</td>\n",
       "      <td>4</td>\n",
       "      <td>1</td>\n",
       "      <td>0</td>\n",
       "      <td>3418.0</td>\n",
       "      <td>0</td>\n",
       "      <td>3418.0</td>\n",
       "      <td>2.594</td>\n",
       "      <td>...</td>\n",
       "      <td>0</td>\n",
       "      <td>0</td>\n",
       "      <td>0</td>\n",
       "      <td>1</td>\n",
       "      <td>0</td>\n",
       "      <td>0</td>\n",
       "      <td>1</td>\n",
       "      <td>0</td>\n",
       "      <td>0</td>\n",
       "      <td>0</td>\n",
       "    </tr>\n",
       "    <tr>\n",
       "      <th>3</th>\n",
       "      <td>40</td>\n",
       "      <td>4</td>\n",
       "      <td>34</td>\n",
       "      <td>3</td>\n",
       "      <td>4</td>\n",
       "      <td>1</td>\n",
       "      <td>3313.0</td>\n",
       "      <td>2517</td>\n",
       "      <td>796.0</td>\n",
       "      <td>1.405</td>\n",
       "      <td>...</td>\n",
       "      <td>0</td>\n",
       "      <td>0</td>\n",
       "      <td>0</td>\n",
       "      <td>0</td>\n",
       "      <td>1</td>\n",
       "      <td>0</td>\n",
       "      <td>1</td>\n",
       "      <td>0</td>\n",
       "      <td>0</td>\n",
       "      <td>0</td>\n",
       "    </tr>\n",
       "    <tr>\n",
       "      <th>4</th>\n",
       "      <td>40</td>\n",
       "      <td>3</td>\n",
       "      <td>21</td>\n",
       "      <td>5</td>\n",
       "      <td>1</td>\n",
       "      <td>0</td>\n",
       "      <td>4716.0</td>\n",
       "      <td>0</td>\n",
       "      <td>4716.0</td>\n",
       "      <td>2.175</td>\n",
       "      <td>...</td>\n",
       "      <td>0</td>\n",
       "      <td>0</td>\n",
       "      <td>1</td>\n",
       "      <td>0</td>\n",
       "      <td>0</td>\n",
       "      <td>0</td>\n",
       "      <td>1</td>\n",
       "      <td>0</td>\n",
       "      <td>0</td>\n",
       "      <td>0</td>\n",
       "    </tr>\n",
       "    <tr>\n",
       "      <th>...</th>\n",
       "      <td>...</td>\n",
       "      <td>...</td>\n",
       "      <td>...</td>\n",
       "      <td>...</td>\n",
       "      <td>...</td>\n",
       "      <td>...</td>\n",
       "      <td>...</td>\n",
       "      <td>...</td>\n",
       "      <td>...</td>\n",
       "      <td>...</td>\n",
       "      <td>...</td>\n",
       "      <td>...</td>\n",
       "      <td>...</td>\n",
       "      <td>...</td>\n",
       "      <td>...</td>\n",
       "      <td>...</td>\n",
       "      <td>...</td>\n",
       "      <td>...</td>\n",
       "      <td>...</td>\n",
       "      <td>...</td>\n",
       "      <td>...</td>\n",
       "    </tr>\n",
       "    <tr>\n",
       "      <th>10122</th>\n",
       "      <td>50</td>\n",
       "      <td>2</td>\n",
       "      <td>40</td>\n",
       "      <td>3</td>\n",
       "      <td>2</td>\n",
       "      <td>3</td>\n",
       "      <td>4003.0</td>\n",
       "      <td>1851</td>\n",
       "      <td>2152.0</td>\n",
       "      <td>0.703</td>\n",
       "      <td>...</td>\n",
       "      <td>0</td>\n",
       "      <td>1</td>\n",
       "      <td>0</td>\n",
       "      <td>0</td>\n",
       "      <td>0</td>\n",
       "      <td>0</td>\n",
       "      <td>1</td>\n",
       "      <td>0</td>\n",
       "      <td>0</td>\n",
       "      <td>0</td>\n",
       "    </tr>\n",
       "    <tr>\n",
       "      <th>10123</th>\n",
       "      <td>41</td>\n",
       "      <td>2</td>\n",
       "      <td>25</td>\n",
       "      <td>4</td>\n",
       "      <td>2</td>\n",
       "      <td>3</td>\n",
       "      <td>4277.0</td>\n",
       "      <td>2186</td>\n",
       "      <td>2091.0</td>\n",
       "      <td>0.804</td>\n",
       "      <td>...</td>\n",
       "      <td>0</td>\n",
       "      <td>1</td>\n",
       "      <td>0</td>\n",
       "      <td>0</td>\n",
       "      <td>0</td>\n",
       "      <td>0</td>\n",
       "      <td>1</td>\n",
       "      <td>0</td>\n",
       "      <td>0</td>\n",
       "      <td>0</td>\n",
       "    </tr>\n",
       "    <tr>\n",
       "      <th>10124</th>\n",
       "      <td>44</td>\n",
       "      <td>1</td>\n",
       "      <td>36</td>\n",
       "      <td>5</td>\n",
       "      <td>3</td>\n",
       "      <td>4</td>\n",
       "      <td>5409.0</td>\n",
       "      <td>0</td>\n",
       "      <td>5409.0</td>\n",
       "      <td>0.819</td>\n",
       "      <td>...</td>\n",
       "      <td>0</td>\n",
       "      <td>0</td>\n",
       "      <td>0</td>\n",
       "      <td>0</td>\n",
       "      <td>1</td>\n",
       "      <td>0</td>\n",
       "      <td>1</td>\n",
       "      <td>0</td>\n",
       "      <td>0</td>\n",
       "      <td>0</td>\n",
       "    </tr>\n",
       "    <tr>\n",
       "      <th>10125</th>\n",
       "      <td>30</td>\n",
       "      <td>2</td>\n",
       "      <td>36</td>\n",
       "      <td>4</td>\n",
       "      <td>3</td>\n",
       "      <td>3</td>\n",
       "      <td>5281.0</td>\n",
       "      <td>0</td>\n",
       "      <td>5281.0</td>\n",
       "      <td>0.535</td>\n",
       "      <td>...</td>\n",
       "      <td>0</td>\n",
       "      <td>1</td>\n",
       "      <td>0</td>\n",
       "      <td>0</td>\n",
       "      <td>0</td>\n",
       "      <td>0</td>\n",
       "      <td>1</td>\n",
       "      <td>0</td>\n",
       "      <td>0</td>\n",
       "      <td>0</td>\n",
       "    </tr>\n",
       "    <tr>\n",
       "      <th>10126</th>\n",
       "      <td>43</td>\n",
       "      <td>2</td>\n",
       "      <td>25</td>\n",
       "      <td>6</td>\n",
       "      <td>2</td>\n",
       "      <td>4</td>\n",
       "      <td>10388.0</td>\n",
       "      <td>1961</td>\n",
       "      <td>8427.0</td>\n",
       "      <td>0.703</td>\n",
       "      <td>...</td>\n",
       "      <td>0</td>\n",
       "      <td>0</td>\n",
       "      <td>0</td>\n",
       "      <td>0</td>\n",
       "      <td>1</td>\n",
       "      <td>0</td>\n",
       "      <td>0</td>\n",
       "      <td>0</td>\n",
       "      <td>0</td>\n",
       "      <td>1</td>\n",
       "    </tr>\n",
       "  </tbody>\n",
       "</table>\n",
       "<p>10127 rows × 37 columns</p>\n",
       "</div>"
      ],
      "text/plain": [
       "       Customer_Age  Dependent_count  Months_on_book  \\\n",
       "0                45                3              39   \n",
       "1                49                5              44   \n",
       "2                51                3              36   \n",
       "3                40                4              34   \n",
       "4                40                3              21   \n",
       "...             ...              ...             ...   \n",
       "10122            50                2              40   \n",
       "10123            41                2              25   \n",
       "10124            44                1              36   \n",
       "10125            30                2              36   \n",
       "10126            43                2              25   \n",
       "\n",
       "       Total_Relationship_Count  Months_Inactive_12_mon  \\\n",
       "0                             5                       1   \n",
       "1                             6                       1   \n",
       "2                             4                       1   \n",
       "3                             3                       4   \n",
       "4                             5                       1   \n",
       "...                         ...                     ...   \n",
       "10122                         3                       2   \n",
       "10123                         4                       2   \n",
       "10124                         5                       3   \n",
       "10125                         4                       3   \n",
       "10126                         6                       2   \n",
       "\n",
       "       Contacts_Count_12_mon  Credit_Limit  Total_Revolving_Bal  \\\n",
       "0                          3       12691.0                  777   \n",
       "1                          2        8256.0                  864   \n",
       "2                          0        3418.0                    0   \n",
       "3                          1        3313.0                 2517   \n",
       "4                          0        4716.0                    0   \n",
       "...                      ...           ...                  ...   \n",
       "10122                      3        4003.0                 1851   \n",
       "10123                      3        4277.0                 2186   \n",
       "10124                      4        5409.0                    0   \n",
       "10125                      3        5281.0                    0   \n",
       "10126                      4       10388.0                 1961   \n",
       "\n",
       "       Avg_Open_To_Buy  Total_Amt_Chng_Q4_Q1  ...  Income_Category_$120K +  \\\n",
       "0              11914.0                 1.335  ...                        0   \n",
       "1               7392.0                 1.541  ...                        0   \n",
       "2               3418.0                 2.594  ...                        0   \n",
       "3                796.0                 1.405  ...                        0   \n",
       "4               4716.0                 2.175  ...                        0   \n",
       "...                ...                   ...  ...                      ...   \n",
       "10122           2152.0                 0.703  ...                        0   \n",
       "10123           2091.0                 0.804  ...                        0   \n",
       "10124           5409.0                 0.819  ...                        0   \n",
       "10125           5281.0                 0.535  ...                        0   \n",
       "10126           8427.0                 0.703  ...                        0   \n",
       "\n",
       "       Income_Category_$40K - $60K  Income_Category_$60K - $80K  \\\n",
       "0                                0                            1   \n",
       "1                                0                            0   \n",
       "2                                0                            0   \n",
       "3                                0                            0   \n",
       "4                                0                            1   \n",
       "...                            ...                          ...   \n",
       "10122                            1                            0   \n",
       "10123                            1                            0   \n",
       "10124                            0                            0   \n",
       "10125                            1                            0   \n",
       "10126                            0                            0   \n",
       "\n",
       "       Income_Category_$80K - $120K  Income_Category_Less than $40K  \\\n",
       "0                                 0                               0   \n",
       "1                                 0                               1   \n",
       "2                                 1                               0   \n",
       "3                                 0                               1   \n",
       "4                                 0                               0   \n",
       "...                             ...                             ...   \n",
       "10122                             0                               0   \n",
       "10123                             0                               0   \n",
       "10124                             0                               1   \n",
       "10125                             0                               0   \n",
       "10126                             0                               1   \n",
       "\n",
       "       Income_Category_Unknown  Card_Category_Blue  Card_Category_Gold  \\\n",
       "0                            0                   1                   0   \n",
       "1                            0                   1                   0   \n",
       "2                            0                   1                   0   \n",
       "3                            0                   1                   0   \n",
       "4                            0                   1                   0   \n",
       "...                        ...                 ...                 ...   \n",
       "10122                        0                   1                   0   \n",
       "10123                        0                   1                   0   \n",
       "10124                        0                   1                   0   \n",
       "10125                        0                   1                   0   \n",
       "10126                        0                   0                   0   \n",
       "\n",
       "       Card_Category_Platinum  Card_Category_Silver  \n",
       "0                           0                     0  \n",
       "1                           0                     0  \n",
       "2                           0                     0  \n",
       "3                           0                     0  \n",
       "4                           0                     0  \n",
       "...                       ...                   ...  \n",
       "10122                       0                     0  \n",
       "10123                       0                     0  \n",
       "10124                       0                     0  \n",
       "10125                       0                     0  \n",
       "10126                       0                     1  \n",
       "\n",
       "[10127 rows x 37 columns]"
      ]
     },
     "execution_count": 92,
     "metadata": {},
     "output_type": "execute_result"
    }
   ],
   "source": [
    "x"
   ]
  },
  {
   "cell_type": "code",
   "execution_count": 93,
   "metadata": {},
   "outputs": [],
   "source": [
    "scaler = StandardScaler()\n",
    "x = scaler.fit_transform(x)"
   ]
  },
  {
   "cell_type": "code",
   "execution_count": 94,
   "metadata": {},
   "outputs": [],
   "source": [
    "xtrain, xtest, ytrain, ytest = train_test_split(x, y, test_size = 0.2, shuffle = True, random_state=2)"
   ]
  },
  {
   "cell_type": "code",
   "execution_count": 52,
   "metadata": {},
   "outputs": [],
   "source": [
    "capas = [\n",
    "    keras.layers.Dense(units = 37, activation = \"relu\"), \n",
    "    keras.layers.Dense(units = 150, activation = \"relu\"),\n",
    "    keras.layers.Dense(units = 300, activation = \"relu\"),\n",
    "    keras.layers.Dense(units = 150, activation = \"relu\"),\n",
    "    keras.layers.Dense(units = 1, activation = \"sigmoid\")]\n",
    "model = keras.Sequential(capas)\n",
    "model.compile(optimizer = \"adam\", \n",
    "              loss = \"binary_crossentropy\",\n",
    "              metrics = [\"accuracy\"])"
   ]
  },
  {
   "cell_type": "code",
   "execution_count": 53,
   "metadata": {},
   "outputs": [
    {
     "name": "stdout",
     "output_type": "stream",
     "text": [
      "Epoch 1/50\n",
      "203/203 [==============================] - 1s 3ms/step - loss: 0.3300 - accuracy: 0.8756 - val_loss: 0.2597 - val_accuracy: 0.8933\n",
      "Epoch 2/50\n",
      "203/203 [==============================] - 0s 2ms/step - loss: 0.2433 - accuracy: 0.9028 - val_loss: 0.2336 - val_accuracy: 0.8988\n",
      "Epoch 3/50\n",
      "203/203 [==============================] - 0s 2ms/step - loss: 0.2084 - accuracy: 0.9150 - val_loss: 0.2293 - val_accuracy: 0.8994\n",
      "Epoch 4/50\n",
      "203/203 [==============================] - 0s 2ms/step - loss: 0.1763 - accuracy: 0.9273 - val_loss: 0.2183 - val_accuracy: 0.9099\n",
      "Epoch 5/50\n",
      "203/203 [==============================] - 0s 2ms/step - loss: 0.1567 - accuracy: 0.9367 - val_loss: 0.2304 - val_accuracy: 0.9056\n",
      "Epoch 6/50\n",
      "203/203 [==============================] - 1s 3ms/step - loss: 0.1405 - accuracy: 0.9398 - val_loss: 0.2181 - val_accuracy: 0.9124\n",
      "Epoch 7/50\n",
      "203/203 [==============================] - 0s 2ms/step - loss: 0.1247 - accuracy: 0.9492 - val_loss: 0.2280 - val_accuracy: 0.9112\n",
      "Epoch 8/50\n",
      "203/203 [==============================] - 0s 2ms/step - loss: 0.1079 - accuracy: 0.9568 - val_loss: 0.2752 - val_accuracy: 0.9081\n",
      "Epoch 9/50\n",
      "203/203 [==============================] - 0s 2ms/step - loss: 0.0976 - accuracy: 0.9576 - val_loss: 0.2650 - val_accuracy: 0.9075\n",
      "Epoch 10/50\n",
      "203/203 [==============================] - 0s 2ms/step - loss: 0.0821 - accuracy: 0.9659 - val_loss: 0.3148 - val_accuracy: 0.9112\n",
      "Epoch 11/50\n",
      "203/203 [==============================] - 0s 2ms/step - loss: 0.0675 - accuracy: 0.9721 - val_loss: 0.2884 - val_accuracy: 0.9075\n",
      "Epoch 12/50\n",
      "203/203 [==============================] - 0s 2ms/step - loss: 0.0655 - accuracy: 0.9731 - val_loss: 0.3272 - val_accuracy: 0.9038\n",
      "Epoch 13/50\n",
      "203/203 [==============================] - 0s 2ms/step - loss: 0.0514 - accuracy: 0.9799 - val_loss: 0.4516 - val_accuracy: 0.9056\n",
      "Epoch 14/50\n",
      "203/203 [==============================] - 0s 2ms/step - loss: 0.0487 - accuracy: 0.9827 - val_loss: 0.3743 - val_accuracy: 0.9025\n",
      "Epoch 15/50\n",
      "203/203 [==============================] - 0s 2ms/step - loss: 0.0457 - accuracy: 0.9812 - val_loss: 0.4545 - val_accuracy: 0.8988\n",
      "Epoch 16/50\n",
      "203/203 [==============================] - 0s 2ms/step - loss: 0.0428 - accuracy: 0.9829 - val_loss: 0.4677 - val_accuracy: 0.9124\n",
      "Epoch 17/50\n",
      "203/203 [==============================] - 0s 2ms/step - loss: 0.0303 - accuracy: 0.9889 - val_loss: 0.5503 - val_accuracy: 0.9081\n",
      "Epoch 18/50\n",
      "203/203 [==============================] - 0s 2ms/step - loss: 0.0295 - accuracy: 0.9892 - val_loss: 0.5113 - val_accuracy: 0.9013\n",
      "Epoch 19/50\n",
      "203/203 [==============================] - 0s 2ms/step - loss: 0.0311 - accuracy: 0.9897 - val_loss: 0.5038 - val_accuracy: 0.9038\n",
      "Epoch 20/50\n",
      "203/203 [==============================] - 0s 2ms/step - loss: 0.0272 - accuracy: 0.9894 - val_loss: 0.5582 - val_accuracy: 0.9044\n",
      "Epoch 21/50\n",
      "203/203 [==============================] - 0s 2ms/step - loss: 0.0276 - accuracy: 0.9898 - val_loss: 0.5892 - val_accuracy: 0.9019\n",
      "Epoch 22/50\n",
      "203/203 [==============================] - 0s 2ms/step - loss: 0.0154 - accuracy: 0.9948 - val_loss: 0.6245 - val_accuracy: 0.8982\n",
      "Epoch 23/50\n",
      "203/203 [==============================] - 0s 2ms/step - loss: 0.0112 - accuracy: 0.9966 - val_loss: 0.7346 - val_accuracy: 0.9068\n",
      "Epoch 24/50\n",
      "203/203 [==============================] - 0s 2ms/step - loss: 0.0295 - accuracy: 0.9920 - val_loss: 0.5049 - val_accuracy: 0.8964\n",
      "Epoch 25/50\n",
      "203/203 [==============================] - 0s 2ms/step - loss: 0.0211 - accuracy: 0.9937 - val_loss: 0.5893 - val_accuracy: 0.9087\n",
      "Epoch 26/50\n",
      "203/203 [==============================] - 0s 2ms/step - loss: 0.0146 - accuracy: 0.9960 - val_loss: 0.6161 - val_accuracy: 0.8902\n",
      "Epoch 27/50\n",
      "203/203 [==============================] - 0s 2ms/step - loss: 0.0227 - accuracy: 0.9926 - val_loss: 0.6292 - val_accuracy: 0.9081\n",
      "Epoch 28/50\n",
      "203/203 [==============================] - 0s 2ms/step - loss: 0.0254 - accuracy: 0.9924 - val_loss: 0.5320 - val_accuracy: 0.9068\n",
      "Epoch 29/50\n",
      "203/203 [==============================] - 0s 2ms/step - loss: 0.0115 - accuracy: 0.9965 - val_loss: 0.6868 - val_accuracy: 0.9105\n",
      "Epoch 30/50\n",
      "203/203 [==============================] - 1s 3ms/step - loss: 0.0113 - accuracy: 0.9966 - val_loss: 0.5951 - val_accuracy: 0.9087\n",
      "Epoch 31/50\n",
      "203/203 [==============================] - 0s 2ms/step - loss: 0.0201 - accuracy: 0.9932 - val_loss: 0.6101 - val_accuracy: 0.9044\n",
      "Epoch 32/50\n",
      "203/203 [==============================] - 0s 2ms/step - loss: 0.0086 - accuracy: 0.9974 - val_loss: 0.6573 - val_accuracy: 0.9056\n",
      "Epoch 33/50\n",
      "203/203 [==============================] - 0s 2ms/step - loss: 0.0034 - accuracy: 0.9991 - val_loss: 0.7152 - val_accuracy: 0.9068\n",
      "Epoch 34/50\n",
      "203/203 [==============================] - 0s 2ms/step - loss: 0.0080 - accuracy: 0.9980 - val_loss: 0.7000 - val_accuracy: 0.9130\n",
      "Epoch 35/50\n",
      "203/203 [==============================] - 1s 3ms/step - loss: 0.0279 - accuracy: 0.9912 - val_loss: 0.5163 - val_accuracy: 0.9062\n",
      "Epoch 36/50\n",
      "203/203 [==============================] - 1s 3ms/step - loss: 0.0155 - accuracy: 0.9943 - val_loss: 0.6611 - val_accuracy: 0.9056\n",
      "Epoch 37/50\n",
      "203/203 [==============================] - 0s 2ms/step - loss: 0.0149 - accuracy: 0.9958 - val_loss: 0.5770 - val_accuracy: 0.9001\n",
      "Epoch 38/50\n",
      "203/203 [==============================] - 1s 3ms/step - loss: 0.0019 - accuracy: 0.9997 - val_loss: 0.6802 - val_accuracy: 0.9068\n",
      "Epoch 39/50\n",
      "203/203 [==============================] - 1s 4ms/step - loss: 3.9275e-04 - accuracy: 1.0000 - val_loss: 0.7329 - val_accuracy: 0.9056\n",
      "Epoch 40/50\n",
      "203/203 [==============================] - 1s 4ms/step - loss: 1.7377e-04 - accuracy: 1.0000 - val_loss: 0.7804 - val_accuracy: 0.9075\n",
      "Epoch 41/50\n",
      "203/203 [==============================] - 1s 3ms/step - loss: 1.1303e-04 - accuracy: 1.0000 - val_loss: 0.8132 - val_accuracy: 0.9081\n",
      "Epoch 42/50\n",
      "203/203 [==============================] - 1s 3ms/step - loss: 8.3389e-05 - accuracy: 1.0000 - val_loss: 0.8392 - val_accuracy: 0.9081\n",
      "Epoch 43/50\n",
      "203/203 [==============================] - 1s 3ms/step - loss: 6.4881e-05 - accuracy: 1.0000 - val_loss: 0.8614 - val_accuracy: 0.9081\n",
      "Epoch 44/50\n",
      "203/203 [==============================] - 1s 3ms/step - loss: 5.1830e-05 - accuracy: 1.0000 - val_loss: 0.8823 - val_accuracy: 0.9081\n",
      "Epoch 45/50\n",
      "203/203 [==============================] - 1s 3ms/step - loss: 4.2218e-05 - accuracy: 1.0000 - val_loss: 0.9002 - val_accuracy: 0.9087\n",
      "Epoch 46/50\n",
      "203/203 [==============================] - 1s 3ms/step - loss: 3.5246e-05 - accuracy: 1.0000 - val_loss: 0.9188 - val_accuracy: 0.9099\n",
      "Epoch 47/50\n",
      "203/203 [==============================] - 1s 4ms/step - loss: 2.9383e-05 - accuracy: 1.0000 - val_loss: 0.9348 - val_accuracy: 0.9093\n",
      "Epoch 48/50\n",
      "203/203 [==============================] - 1s 3ms/step - loss: 2.4898e-05 - accuracy: 1.0000 - val_loss: 0.9506 - val_accuracy: 0.9093\n",
      "Epoch 49/50\n",
      "203/203 [==============================] - 1s 3ms/step - loss: 2.1132e-05 - accuracy: 1.0000 - val_loss: 0.9656 - val_accuracy: 0.9099\n",
      "Epoch 50/50\n",
      "203/203 [==============================] - 1s 3ms/step - loss: 1.7996e-05 - accuracy: 1.0000 - val_loss: 0.9812 - val_accuracy: 0.9099\n"
     ]
    }
   ],
   "source": [
    "history = model.fit(\n",
    "    xtrain,\n",
    "    ytrain,\n",
    "    batch_size = 32,\n",
    "    epochs = 50,\n",
    "    validation_split = 0.2\n",
    ")"
   ]
  },
  {
   "cell_type": "code",
   "execution_count": 54,
   "metadata": {},
   "outputs": [
    {
     "name": "stdout",
     "output_type": "stream",
     "text": [
      "64/64 [==============================] - 0s 2ms/step - loss: 0.8395 - accuracy: 0.9210\n"
     ]
    },
    {
     "data": {
      "text/plain": [
       "[0.8394904732704163, 0.9210266470909119]"
      ]
     },
     "execution_count": 54,
     "metadata": {},
     "output_type": "execute_result"
    }
   ],
   "source": [
    "model.evaluate(xtest, ytest)"
   ]
  },
  {
   "cell_type": "code",
   "execution_count": 55,
   "metadata": {},
   "outputs": [
    {
     "data": {
      "text/plain": [
       "(10127, 37)"
      ]
     },
     "execution_count": 55,
     "metadata": {},
     "output_type": "execute_result"
    }
   ],
   "source": [
    "x.shape"
   ]
  },
  {
   "attachments": {},
   "cell_type": "markdown",
   "metadata": {},
   "source": [
    "#### Vemos que los datos están desbalanceados"
   ]
  },
  {
   "cell_type": "code",
   "execution_count": 95,
   "metadata": {},
   "outputs": [
    {
     "data": {
      "text/plain": [
       "0    8500\n",
       "1    1627\n",
       "Name: Attrition_Flag, dtype: int64"
      ]
     },
     "execution_count": 95,
     "metadata": {},
     "output_type": "execute_result"
    }
   ],
   "source": [
    "y.value_counts()"
   ]
  },
  {
   "cell_type": "code",
   "execution_count": 105,
   "metadata": {},
   "outputs": [],
   "source": [
    "from imblearn.under_sampling import NearMiss"
   ]
  },
  {
   "cell_type": "code",
   "execution_count": 103,
   "metadata": {},
   "outputs": [],
   "source": [
    "nm = NearMiss()\n",
    "xtrainRes, ytrainRes= nm.fit_resample(xtrain, ytrain)"
   ]
  },
  {
   "cell_type": "code",
   "execution_count": 108,
   "metadata": {},
   "outputs": [
    {
     "data": {
      "text/plain": [
       "<BarContainer object of 2 artists>"
      ]
     },
     "execution_count": 108,
     "metadata": {},
     "output_type": "execute_result"
    },
    {
     "data": {
      "image/png": "[encoded data removed]",
      "text/plain": [
       "<Figure size 432x288 with 1 Axes>"
      ]
     },
     "metadata": {
      "needs_background": "light"
     },
     "output_type": "display_data"
    }
   ],
   "source": [
    "plt.bar([\"Existing Customer\",\"Attrited Customer\"],ytrainRes.value_counts().values)"
   ]
  },
  {
   "cell_type": "code",
   "execution_count": 100,
   "metadata": {},
   "outputs": [
    {
     "data": {
      "text/plain": [
       "0    6786\n",
       "1    1315\n",
       "Name: Attrition_Flag, dtype: int64"
      ]
     },
     "execution_count": 100,
     "metadata": {},
     "output_type": "execute_result"
    }
   ],
   "source": [
    "ytrain.value_counts()"
   ]
  },
  {
   "cell_type": "code",
   "execution_count": 59,
   "metadata": {},
   "outputs": [
    {
     "data": {
      "text/plain": [
       "(2630, 37)"
      ]
     },
     "execution_count": 59,
     "metadata": {},
     "output_type": "execute_result"
    }
   ],
   "source": [
    "xtrainRes.shape"
   ]
  },
  {
   "cell_type": "code",
   "execution_count": 60,
   "metadata": {},
   "outputs": [
    {
     "data": {
      "text/plain": [
       "(2630,)"
      ]
     },
     "execution_count": 60,
     "metadata": {},
     "output_type": "execute_result"
    }
   ],
   "source": [
    "ytrainRes.shape"
   ]
  },
  {
   "cell_type": "code",
   "execution_count": 109,
   "metadata": {},
   "outputs": [],
   "source": [
    "capas = [\n",
    "    keras.layers.Dense(units = 37, activation = \"relu\"), \n",
    "    keras.layers.Dense(units = 150, activation = \"relu\"),\n",
    "    keras.layers.Dense(units = 300, activation = \"relu\"),\n",
    "    keras.layers.Dense(units = 150, activation = \"relu\"),\n",
    "    keras.layers.Dense(units = 1, activation = \"sigmoid\")]\n",
    "model = keras.Sequential(capas)\n",
    "model.compile(optimizer = \"adam\", \n",
    "              loss = \"binary_crossentropy\",\n",
    "              metrics = [\"accuracy\"])"
   ]
  },
  {
   "cell_type": "code",
   "execution_count": 110,
   "metadata": {},
   "outputs": [
    {
     "name": "stdout",
     "output_type": "stream",
     "text": [
      "Epoch 1/50\n",
      "203/203 [==============================] - 1s 3ms/step - loss: 0.3247 - accuracy: 0.8708 - val_loss: 0.2568 - val_accuracy: 0.8908\n",
      "Epoch 2/50\n",
      "203/203 [==============================] - 0s 2ms/step - loss: 0.2286 - accuracy: 0.9056 - val_loss: 0.2301 - val_accuracy: 0.8988\n",
      "Epoch 3/50\n",
      "203/203 [==============================] - 0s 2ms/step - loss: 0.1955 - accuracy: 0.9176 - val_loss: 0.2305 - val_accuracy: 0.9007\n",
      "Epoch 4/50\n",
      "203/203 [==============================] - 0s 2ms/step - loss: 0.1665 - accuracy: 0.9295 - val_loss: 0.2116 - val_accuracy: 0.9143\n",
      "Epoch 5/50\n",
      "203/203 [==============================] - 0s 2ms/step - loss: 0.1487 - accuracy: 0.9392 - val_loss: 0.2247 - val_accuracy: 0.9062\n",
      "Epoch 6/50\n",
      "203/203 [==============================] - 0s 2ms/step - loss: 0.1345 - accuracy: 0.9486 - val_loss: 0.2247 - val_accuracy: 0.9161\n",
      "Epoch 7/50\n",
      "203/203 [==============================] - 1s 3ms/step - loss: 0.1156 - accuracy: 0.9539 - val_loss: 0.2220 - val_accuracy: 0.9081\n",
      "Epoch 8/50\n",
      "203/203 [==============================] - 0s 2ms/step - loss: 0.1027 - accuracy: 0.9583 - val_loss: 0.2586 - val_accuracy: 0.9149\n",
      "Epoch 9/50\n",
      "203/203 [==============================] - 0s 2ms/step - loss: 0.0958 - accuracy: 0.9591 - val_loss: 0.2435 - val_accuracy: 0.9038\n",
      "Epoch 10/50\n",
      "203/203 [==============================] - 0s 2ms/step - loss: 0.0804 - accuracy: 0.9682 - val_loss: 0.2453 - val_accuracy: 0.9124\n",
      "Epoch 11/50\n",
      "203/203 [==============================] - 0s 2ms/step - loss: 0.0718 - accuracy: 0.9704 - val_loss: 0.2729 - val_accuracy: 0.9050\n",
      "Epoch 12/50\n",
      "203/203 [==============================] - 0s 2ms/step - loss: 0.0596 - accuracy: 0.9745 - val_loss: 0.3257 - val_accuracy: 0.9198\n",
      "Epoch 13/50\n",
      "203/203 [==============================] - 0s 2ms/step - loss: 0.0588 - accuracy: 0.9765 - val_loss: 0.3288 - val_accuracy: 0.9198\n",
      "Epoch 14/50\n",
      "203/203 [==============================] - 1s 3ms/step - loss: 0.0434 - accuracy: 0.9836 - val_loss: 0.3802 - val_accuracy: 0.9050\n",
      "Epoch 15/50\n",
      "203/203 [==============================] - 1s 3ms/step - loss: 0.0366 - accuracy: 0.9864 - val_loss: 0.3639 - val_accuracy: 0.9143\n",
      "Epoch 16/50\n",
      "203/203 [==============================] - 0s 2ms/step - loss: 0.0389 - accuracy: 0.9855 - val_loss: 0.3411 - val_accuracy: 0.9093\n",
      "Epoch 17/50\n",
      "203/203 [==============================] - 0s 2ms/step - loss: 0.0351 - accuracy: 0.9866 - val_loss: 0.4359 - val_accuracy: 0.9105\n",
      "Epoch 18/50\n",
      "203/203 [==============================] - 0s 2ms/step - loss: 0.0192 - accuracy: 0.9920 - val_loss: 0.5118 - val_accuracy: 0.9149\n",
      "Epoch 19/50\n",
      "203/203 [==============================] - 0s 2ms/step - loss: 0.0259 - accuracy: 0.9904 - val_loss: 0.5688 - val_accuracy: 0.8994\n",
      "Epoch 20/50\n",
      "203/203 [==============================] - 0s 2ms/step - loss: 0.0304 - accuracy: 0.9900 - val_loss: 0.4742 - val_accuracy: 0.9044\n",
      "Epoch 21/50\n",
      "203/203 [==============================] - 0s 2ms/step - loss: 0.0248 - accuracy: 0.9931 - val_loss: 0.4607 - val_accuracy: 0.9173\n",
      "Epoch 22/50\n",
      "203/203 [==============================] - 0s 2ms/step - loss: 0.0212 - accuracy: 0.9931 - val_loss: 0.5207 - val_accuracy: 0.9038\n",
      "Epoch 23/50\n",
      "203/203 [==============================] - 0s 2ms/step - loss: 0.0289 - accuracy: 0.9895 - val_loss: 0.4570 - val_accuracy: 0.9161\n",
      "Epoch 24/50\n",
      "203/203 [==============================] - 0s 2ms/step - loss: 0.0165 - accuracy: 0.9941 - val_loss: 0.5223 - val_accuracy: 0.9019\n",
      "Epoch 25/50\n",
      "203/203 [==============================] - 0s 2ms/step - loss: 0.0229 - accuracy: 0.9923 - val_loss: 0.5211 - val_accuracy: 0.9167\n",
      "Epoch 26/50\n",
      "203/203 [==============================] - 0s 2ms/step - loss: 0.0241 - accuracy: 0.9923 - val_loss: 0.4625 - val_accuracy: 0.9130\n",
      "Epoch 27/50\n",
      "203/203 [==============================] - 0s 2ms/step - loss: 0.0096 - accuracy: 0.9971 - val_loss: 0.5988 - val_accuracy: 0.9149\n",
      "Epoch 28/50\n",
      "203/203 [==============================] - 0s 2ms/step - loss: 0.0191 - accuracy: 0.9920 - val_loss: 0.4947 - val_accuracy: 0.9112\n",
      "Epoch 29/50\n",
      "203/203 [==============================] - 0s 2ms/step - loss: 0.0072 - accuracy: 0.9975 - val_loss: 0.5669 - val_accuracy: 0.9136\n",
      "Epoch 30/50\n",
      "203/203 [==============================] - 0s 2ms/step - loss: 0.0052 - accuracy: 0.9983 - val_loss: 0.6832 - val_accuracy: 0.9161\n",
      "Epoch 31/50\n",
      "203/203 [==============================] - 0s 2ms/step - loss: 0.0128 - accuracy: 0.9961 - val_loss: 0.6403 - val_accuracy: 0.9118\n",
      "Epoch 32/50\n",
      "203/203 [==============================] - 0s 2ms/step - loss: 0.0223 - accuracy: 0.9929 - val_loss: 0.5287 - val_accuracy: 0.9062\n",
      "Epoch 33/50\n",
      "203/203 [==============================] - 0s 2ms/step - loss: 0.0135 - accuracy: 0.9961 - val_loss: 0.6062 - val_accuracy: 0.9143\n",
      "Epoch 34/50\n",
      "203/203 [==============================] - 0s 2ms/step - loss: 0.0120 - accuracy: 0.9972 - val_loss: 0.4943 - val_accuracy: 0.9007\n",
      "Epoch 35/50\n",
      "203/203 [==============================] - 0s 2ms/step - loss: 0.0136 - accuracy: 0.9955 - val_loss: 0.5278 - val_accuracy: 0.9173\n",
      "Epoch 36/50\n",
      "203/203 [==============================] - 0s 2ms/step - loss: 0.0137 - accuracy: 0.9954 - val_loss: 0.6017 - val_accuracy: 0.9204\n",
      "Epoch 37/50\n",
      "203/203 [==============================] - 0s 2ms/step - loss: 0.0050 - accuracy: 0.9980 - val_loss: 0.6092 - val_accuracy: 0.9124\n",
      "Epoch 38/50\n",
      "203/203 [==============================] - 0s 2ms/step - loss: 0.0224 - accuracy: 0.9924 - val_loss: 0.5268 - val_accuracy: 0.9087\n",
      "Epoch 39/50\n",
      "203/203 [==============================] - 0s 2ms/step - loss: 0.0089 - accuracy: 0.9972 - val_loss: 0.5731 - val_accuracy: 0.9204\n",
      "Epoch 40/50\n",
      "203/203 [==============================] - 0s 2ms/step - loss: 0.0025 - accuracy: 0.9994 - val_loss: 0.6534 - val_accuracy: 0.9167\n",
      "Epoch 41/50\n",
      "203/203 [==============================] - 0s 2ms/step - loss: 0.0072 - accuracy: 0.9981 - val_loss: 0.8539 - val_accuracy: 0.9143\n",
      "Epoch 42/50\n",
      "203/203 [==============================] - 0s 2ms/step - loss: 0.0207 - accuracy: 0.9935 - val_loss: 0.4902 - val_accuracy: 0.9062\n",
      "Epoch 43/50\n",
      "203/203 [==============================] - 0s 2ms/step - loss: 0.0141 - accuracy: 0.9958 - val_loss: 0.5183 - val_accuracy: 0.9167\n",
      "Epoch 44/50\n",
      "203/203 [==============================] - 0s 2ms/step - loss: 0.0076 - accuracy: 0.9980 - val_loss: 0.5561 - val_accuracy: 0.9204\n",
      "Epoch 45/50\n",
      "203/203 [==============================] - 0s 2ms/step - loss: 9.8919e-04 - accuracy: 1.0000 - val_loss: 0.6344 - val_accuracy: 0.9173\n",
      "Epoch 46/50\n",
      "203/203 [==============================] - 0s 2ms/step - loss: 2.2032e-04 - accuracy: 1.0000 - val_loss: 0.6682 - val_accuracy: 0.9180\n",
      "Epoch 47/50\n",
      "203/203 [==============================] - 0s 2ms/step - loss: 1.1200e-04 - accuracy: 1.0000 - val_loss: 0.7009 - val_accuracy: 0.9186\n",
      "Epoch 48/50\n",
      "203/203 [==============================] - 0s 2ms/step - loss: 7.6764e-05 - accuracy: 1.0000 - val_loss: 0.7278 - val_accuracy: 0.9192\n",
      "Epoch 49/50\n",
      "203/203 [==============================] - 0s 2ms/step - loss: 5.7695e-05 - accuracy: 1.0000 - val_loss: 0.7509 - val_accuracy: 0.9186\n",
      "Epoch 50/50\n",
      "203/203 [==============================] - 1s 2ms/step - loss: 4.4098e-05 - accuracy: 1.0000 - val_loss: 0.7716 - val_accuracy: 0.9186\n"
     ]
    }
   ],
   "source": [
    "history = model.fit(\n",
    "    xtrain,\n",
    "    ytrain,\n",
    "    batch_size = 32,\n",
    "    epochs = 50,\n",
    "    validation_split = 0.2\n",
    ")"
   ]
  },
  {
   "cell_type": "code",
   "execution_count": 64,
   "metadata": {},
   "outputs": [
    {
     "name": "stdout",
     "output_type": "stream",
     "text": [
      "64/64 [==============================] - 0s 2ms/step - loss: 0.9901 - accuracy: 0.9112\n"
     ]
    },
    {
     "data": {
      "text/plain": [
       "[0.9900861382484436, 0.9111549854278564]"
      ]
     },
     "execution_count": 64,
     "metadata": {},
     "output_type": "execute_result"
    }
   ],
   "source": [
    "model.evaluate(xtest, ytest)"
   ]
  },
  {
   "attachments": {},
   "cell_type": "markdown",
   "metadata": {},
   "source": [
    "#### Parece que no hemos podido llegar a un mejor modelo. Tal vez la razón es simplemente inherente al caso del que estamos tratando, saber si alguien va a cancerlar o no una tarjeta. Hay cierto punto en el que no podemos obtener más precisión a la hora de saber si alguien va o no a cancelar una tarjeta."
   ]
  },
  {
   "cell_type": "code",
   "execution_count": 111,
   "metadata": {},
   "outputs": [],
   "source": [
    "from sklearn import metrics"
   ]
  },
  {
   "cell_type": "code",
   "execution_count": 112,
   "metadata": {},
   "outputs": [],
   "source": [
    "import seaborn as sns\n",
    "import numpy as np"
   ]
  },
  {
   "attachments": {},
   "cell_type": "markdown",
   "metadata": {},
   "source": [
    "## Evaluación del modelo"
   ]
  },
  {
   "cell_type": "code",
   "execution_count": 119,
   "metadata": {},
   "outputs": [
    {
     "name": "stdout",
     "output_type": "stream",
     "text": [
      "64/64 [==============================] - 0s 1ms/step\n"
     ]
    },
    {
     "data": {
      "text/plain": [
       "<AxesSubplot:>"
      ]
     },
     "execution_count": 119,
     "metadata": {},
     "output_type": "execute_result"
    },
    {
     "data": {
      "image/png": "[encoded data removed]",
      "text/plain": [
       "<Figure size 432x288 with 2 Axes>"
      ]
     },
     "metadata": {
      "needs_background": "light"
     },
     "output_type": "display_data"
    }
   ],
   "source": [
    "sns.heatmap(metrics.confusion_matrix(ytest, np.round(model.predict(xtest))), annot = True)"
   ]
  },
  {
   "cell_type": "code",
   "execution_count": 67,
   "metadata": {},
   "outputs": [
    {
     "name": "stdout",
     "output_type": "stream",
     "text": [
      "64/64 [==============================] - 0s 1ms/step\n"
     ]
    },
    {
     "data": {
      "text/plain": [
       "<AxesSubplot:>"
      ]
     },
     "execution_count": 67,
     "metadata": {},
     "output_type": "execute_result"
    },
    {
     "data": {
      "image/png": "[encoded data removed]",
      "text/plain": [
       "<Figure size 432x288 with 2 Axes>"
      ]
     },
     "metadata": {
      "needs_background": "light"
     },
     "output_type": "display_data"
    }
   ],
   "source": [
    "sns.heatmap(metrics.confusion_matrix(ytest, np.round(model.predict(xtest)), normalize = False), annot = True)"
   ]
  },
  {
   "cell_type": "code",
   "execution_count": 193,
   "metadata": {},
   "outputs": [
    {
     "name": "stdout",
     "output_type": "stream",
     "text": [
      "64/64 [==============================] - 0s 1ms/step\n"
     ]
    },
    {
     "data": {
      "text/plain": [
       "0.6762820512820513"
      ]
     },
     "execution_count": 193,
     "metadata": {},
     "output_type": "execute_result"
    }
   ],
   "source": [
    "metrics.recall_score(ytest, np.round(model.predict(xtest)))"
   ]
  },
  {
   "cell_type": "code",
   "execution_count": 194,
   "metadata": {},
   "outputs": [
    {
     "name": "stdout",
     "output_type": "stream",
     "text": [
      "64/64 [==============================] - 0s 1ms/step\n"
     ]
    },
    {
     "data": {
      "text/plain": [
       "0.7152542372881356"
      ]
     },
     "execution_count": 194,
     "metadata": {},
     "output_type": "execute_result"
    }
   ],
   "source": [
    "metrics.precision_score(ytest, np.round(model.predict(xtest)))"
   ]
  },
  {
   "cell_type": "code",
   "execution_count": 124,
   "metadata": {},
   "outputs": [
    {
     "data": {
      "text/plain": [
       "<BarContainer object of 3 artists>"
      ]
     },
     "execution_count": 124,
     "metadata": {},
     "output_type": "execute_result"
    },
    {
     "data": {
      "image/png": "[encoded data removed]",
      "text/plain": [
       "<Figure size 432x288 with 1 Axes>"
      ]
     },
     "metadata": {
      "needs_background": "light"
     },
     "output_type": "display_data"
    }
   ],
   "source": [
    "plt.bar([\"Accuracy\", \"Precission\", \"Recall\"], [0.9111549854278564, 0.6762820512820513, 0.7152542372881356])"
   ]
  },
  {
   "cell_type": "code",
   "execution_count": 125,
   "metadata": {},
   "outputs": [
    {
     "data": {
      "text/plain": [
       "<keras.engine.sequential.Sequential at 0x2472f2f0b48>"
      ]
     },
     "execution_count": 125,
     "metadata": {},
     "output_type": "execute_result"
    }
   ],
   "source": [
    "model.save(\"../modelo/modelo.h5\")"
   ]
  }
 ],
 "metadata": {
  "kernelspec": {
   "display_name": "Python 3",
   "language": "python",
   "name": "python3"
  },
  "language_info": {
   "codemirror_mode": {
    "name": "ipython",
    "version": 3
   },
   "file_extension": ".py",
   "mimetype": "text/x-python",
   "name": "python",
   "nbconvert_exporter": "python",
   "pygments_lexer": "ipython3",
   "version": "3.7.4"
  },
  "orig_nbformat": 4
 },
 "nbformat": 4,
 "nbformat_minor": 2
}
